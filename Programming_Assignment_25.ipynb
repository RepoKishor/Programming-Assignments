{
 "cells": [
  {
   "cell_type": "markdown",
   "id": "404345ea-5a0a-4e36-a432-13ee4cae56ad",
   "metadata": {},
   "source": [
    "Create a function that takes three integer arguments (a, b, c) and returns the amount of integers which are of equal value."
   ]
  },
  {
   "cell_type": "code",
   "execution_count": 3,
   "id": "8d491acd-dfc5-48aa-91d6-bfe82c529649",
   "metadata": {},
   "outputs": [
    {
     "data": {
      "text/plain": [
       "2"
      ]
     },
     "execution_count": 3,
     "metadata": {},
     "output_type": "execute_result"
    }
   ],
   "source": [
    "def equal(a,b,c):\n",
    "    num = 0\n",
    "    if a == b and a == c :\n",
    "        num = 3\n",
    "    elif a == b or a == c or b==c:\n",
    "        num = 2\n",
    "    else:\n",
    "        num = 0\n",
    "    return num\n",
    "equal(3, 4, 4)"
   ]
  },
  {
   "cell_type": "markdown",
   "id": "be1ce252-8e98-4c11-8bcb-158371089824",
   "metadata": {},
   "source": [
    "Write a function that converts a dictionary into a list of keys-values tuples"
   ]
  },
  {
   "cell_type": "code",
   "execution_count": 4,
   "id": "2076e6a7-40c0-4916-877b-2c861d8b10fc",
   "metadata": {},
   "outputs": [],
   "source": [
    "\n",
    "def dict_to_listofkeyVals(d):\n",
    "    return list(d.items())"
   ]
  },
  {
   "cell_type": "code",
   "execution_count": 5,
   "id": "f263c6f8-9c25-4d65-b82c-5427a6d4be37",
   "metadata": {},
   "outputs": [
    {
     "data": {
      "text/plain": [
       "[('likes', 2), ('dislikes', 3), ('followers', 10)]"
      ]
     },
     "execution_count": 5,
     "metadata": {},
     "output_type": "execute_result"
    }
   ],
   "source": [
    "dict_to_listofkeyVals({\n",
    "    'likes': 2,\n",
    "    'dislikes': 3,\n",
    "    'followers': 10\n",
    "    })"
   ]
  },
  {
   "cell_type": "markdown",
   "id": "ca44860b-1cf7-45b6-91ae-e2ca5003beed",
   "metadata": {},
   "source": [
    "Write a function that creates a dictionary with each (key, value) pair being the (lower case, upper case) versions of a letter, respectively"
   ]
  },
  {
   "cell_type": "code",
   "execution_count": 6,
   "id": "1afeb664-d2b4-4389-b630-02cccdbbf873",
   "metadata": {},
   "outputs": [],
   "source": [
    "def lower_UpperPair(lst):\n",
    "    return {v.lower():v.upper() for v in lst}"
   ]
  },
  {
   "cell_type": "code",
   "execution_count": 7,
   "id": "9d974480-0537-4260-9a2b-a3acc3d97c9c",
   "metadata": {},
   "outputs": [
    {
     "data": {
      "text/plain": [
       "{'a': 'A', 'b': 'B', 'c': 'C'}"
      ]
     },
     "execution_count": 7,
     "metadata": {},
     "output_type": "execute_result"
    }
   ],
   "source": [
    "lower_UpperPair(['a', 'b', 'c'])"
   ]
  },
  {
   "cell_type": "markdown",
   "id": "1f678132-fff4-4d1e-be5f-f23d6ab3588f",
   "metadata": {},
   "source": [
    "Write a function, that replaces all vowels in a string with a specified vowel"
   ]
  },
  {
   "cell_type": "code",
   "execution_count": 8,
   "id": "8ae0f0e6-f207-4ccd-bb75-3b9fe80c2391",
   "metadata": {},
   "outputs": [],
   "source": [
    "def replace_vowelwithVowel(string,ch):\n",
    "    vowels ='AEIOUaeiuo'\n",
    "    s1 = []\n",
    "    for i in range(len(string)):\n",
    "        if string[i] in vowels:\n",
    "            s1.append(ch)\n",
    "        else:\n",
    "            s1.append(string[i])\n",
    "\n",
    "    return ''.join((s1))"
   ]
  },
  {
   "cell_type": "code",
   "execution_count": 9,
   "id": "e587267b-13b9-44b9-8ea0-f079d127a055",
   "metadata": {},
   "outputs": [
    {
     "data": {
      "text/plain": [
       "'upplus und bununus'"
      ]
     },
     "execution_count": 9,
     "metadata": {},
     "output_type": "execute_result"
    }
   ],
   "source": [
    "replace_vowelwithVowel(\"apples and bananas\", \"u\")"
   ]
  },
  {
   "cell_type": "markdown",
   "id": "b68312c6-8d0f-423c-988a-b477adb33d7c",
   "metadata": {},
   "source": [
    "Create a function that takes a string as input and capitalizes a letter if its ASCII code is even and returns its lower case version if its ASCII code is odd."
   ]
  },
  {
   "cell_type": "code",
   "execution_count": 10,
   "id": "40efbd82-19e4-4467-a5f9-d4c190c1b5db",
   "metadata": {},
   "outputs": [],
   "source": [
    "def capitalize(s):\n",
    "    s1 = []\n",
    "    for i in range(len(s)):\n",
    "        if ord(s[i]) % 2 == 0:\n",
    "            s1.append(s[i].upper())\n",
    "        else:\n",
    "            s1.append(s[i].lower())\n",
    "\n",
    "    return \"\".join((s1))"
   ]
  },
  {
   "cell_type": "code",
   "execution_count": 11,
   "id": "5a2179b6-0b58-4735-a4ca-6d43ee4e8f91",
   "metadata": {},
   "outputs": [
    {
     "data": {
      "text/plain": [
       "'oH wHaT a BeauTiFuL moRNiNg.'"
      ]
     },
     "execution_count": 11,
     "metadata": {},
     "output_type": "execute_result"
    }
   ],
   "source": [
    "capitalize(\"Oh what a beautiful morning.\")"
   ]
  },
  {
   "cell_type": "code",
   "execution_count": null,
   "id": "28b418f9-4011-4bf7-b5b2-23bdb658c135",
   "metadata": {},
   "outputs": [],
   "source": []
  }
 ],
 "metadata": {
  "kernelspec": {
   "display_name": "Python 3 (ipykernel)",
   "language": "python",
   "name": "python3"
  },
  "language_info": {
   "codemirror_mode": {
    "name": "ipython",
    "version": 3
   },
   "file_extension": ".py",
   "mimetype": "text/x-python",
   "name": "python",
   "nbconvert_exporter": "python",
   "pygments_lexer": "ipython3",
   "version": "3.10.9"
  }
 },
 "nbformat": 4,
 "nbformat_minor": 5
}
