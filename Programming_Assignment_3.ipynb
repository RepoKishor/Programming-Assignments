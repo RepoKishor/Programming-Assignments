{
 "cells": [
  {
   "cell_type": "code",
   "execution_count": null,
   "id": "f36ee769",
   "metadata": {},
   "outputs": [],
   "source": [
    "1.\tWrite a Python Program to Check if a Number is Positive, Negative or Zero?\n",
    "2.\tWrite a Python Program to Check if a Number is Odd or Even?\n",
    "3.\tWrite a Python Program to Check Leap Year?\n",
    "4.\tWrite a Python Program to Check Prime Number?\n",
    "5.\tWrite a Python Program to Print all Prime Numbers in an Interval of 1-10000?"
   ]
  },
  {
   "cell_type": "code",
   "execution_count": 3,
   "id": "38abb4df",
   "metadata": {},
   "outputs": [
    {
     "name": "stdout",
     "output_type": "stream",
     "text": [
      "Enter a number-8\n",
      "Negative number\n"
     ]
    }
   ],
   "source": [
    "a = int(input(\"Enter a number\"))\n",
    "if a>0:\n",
    "    print(\"Positive number\")\n",
    "elif a<0:\n",
    "    print(\"Negative number\")\n",
    "else:\n",
    "    print(\"This is zero\")"
   ]
  },
  {
   "cell_type": "code",
   "execution_count": 6,
   "id": "df222c86",
   "metadata": {},
   "outputs": [
    {
     "name": "stdout",
     "output_type": "stream",
     "text": [
      "Enter a number9\n",
      "The number is odd\n"
     ]
    }
   ],
   "source": [
    "a = int(input(\"Enter a number\"))\n",
    "if a%2==0:\n",
    "    print(\"The number is even\")\n",
    "else:\n",
    "    print(\"The number is odd\")"
   ]
  },
  {
   "cell_type": "code",
   "execution_count": 9,
   "id": "3387b27b",
   "metadata": {},
   "outputs": [
    {
     "name": "stdout",
     "output_type": "stream",
     "text": [
      "Enter the year1700\n",
      "Year 1700 is a leap year\n"
     ]
    }
   ],
   "source": [
    "year = int(input(\"Enter the year\"))\n",
    "if (year%4 ==0) and (year%100 ==0):\n",
    "    print(\"Year {0} is a leap year\".format(year))\n",
    "elif (year%400 ==0) and (year%100 ==0):\n",
    "    print(\"Year {0} is a leap year\".format(year))\n",
    "else:\n",
    "    print(\"This year is not a leap year\")"
   ]
  },
  {
   "cell_type": "code",
   "execution_count": 14,
   "id": "40e2d3f1",
   "metadata": {},
   "outputs": [
    {
     "data": {
      "text/plain": [
       "True"
      ]
     },
     "execution_count": 14,
     "metadata": {},
     "output_type": "execute_result"
    }
   ],
   "source": [
    "def isPrime(n):\n",
    "    if n>=2:\n",
    "        for i in range (2,n):\n",
    "            if (n%i ==0):\n",
    "                return False\n",
    "    else:\n",
    "        return False\n",
    "    return True\n",
    "\n",
    "isPrime(7)"
   ]
  },
  {
   "cell_type": "code",
   "execution_count": 16,
   "id": "dc7d25eb",
   "metadata": {},
   "outputs": [
    {
     "data": {
      "text/plain": [
       "[2, 3, 5, 7]"
      ]
     },
     "execution_count": 16,
     "metadata": {},
     "output_type": "execute_result"
    }
   ],
   "source": [
    "def getPrime(fr,to):\n",
    "    '''Q1This method returns a list of prime numbers in the range of input numbers both included'''\n",
    "    li=[]\n",
    "    for i in range (fr,to+1):\n",
    "        if i >1:\n",
    "            for j in range(2,i):\n",
    "                if (i%j) ==0:\n",
    "                    break\n",
    "            else:\n",
    "                li.append(i)\n",
    "    return li\n",
    "\n",
    "getPrime(1,10000)"
   ]
  },
  {
   "cell_type": "code",
   "execution_count": null,
   "id": "650df979",
   "metadata": {},
   "outputs": [],
   "source": []
  }
 ],
 "metadata": {
  "kernelspec": {
   "display_name": "Python 3 (ipykernel)",
   "language": "python",
   "name": "python3"
  },
  "language_info": {
   "codemirror_mode": {
    "name": "ipython",
    "version": 3
   },
   "file_extension": ".py",
   "mimetype": "text/x-python",
   "name": "python",
   "nbconvert_exporter": "python",
   "pygments_lexer": "ipython3",
   "version": "3.9.7"
  }
 },
 "nbformat": 4,
 "nbformat_minor": 5
}
