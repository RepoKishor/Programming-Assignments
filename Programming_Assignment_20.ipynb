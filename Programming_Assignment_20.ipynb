{
 "cells": [
  {
   "cell_type": "markdown",
   "id": "02715522-10c2-4da3-8a62-2f8abc4fb0c7",
   "metadata": {},
   "source": [
    "Question1\n",
    "Create a function that takes a list of strings and integers, and filters out the list so that it returns a list of integers only."
   ]
  },
  {
   "cell_type": "code",
   "execution_count": 6,
   "id": "7f16ea86-922d-4f0f-92b3-a77d61bfebfe",
   "metadata": {},
   "outputs": [
    {
     "data": {
      "text/plain": [
       "[0, 1729]"
      ]
     },
     "execution_count": 6,
     "metadata": {},
     "output_type": "execute_result"
    }
   ],
   "source": [
    "def filter_list(li):\n",
    "    li_int = []\n",
    "    for i in li:\n",
    "        if type(i) == int:\n",
    "            li_int.append(i)\n",
    "       \n",
    "    return li_int\n",
    "\n",
    "filter_list([\"A\", 0, \"Edabit\", 1729, \"Python\", \"1729\"])"
   ]
  },
  {
   "cell_type": "markdown",
   "id": "546c2fd9-3b2a-4e1e-a47d-0b2cc19f7b8d",
   "metadata": {},
   "source": [
    "Question2\n",
    "Given a list of numbers, create a function which returns the list but \n",
    "with each element's index in the list added to itself. \n",
    "This means you add 0 to the number at index 0, add 1 to the number at index 1, etc..."
   ]
  },
  {
   "cell_type": "code",
   "execution_count": 14,
   "id": "f98bac4d-7a61-4dc3-80ca-65f3aab6496d",
   "metadata": {},
   "outputs": [
    {
     "name": "stdout",
     "output_type": "stream",
     "text": [
      "0\n",
      "1\n",
      "2\n",
      "3\n",
      "4\n"
     ]
    },
    {
     "data": {
      "text/plain": [
       "[5, 5, 5, 5, 5]"
      ]
     },
     "execution_count": 14,
     "metadata": {},
     "output_type": "execute_result"
    }
   ],
   "source": [
    "def numberplusindex(li):\n",
    "    index = []\n",
    "    for i in li:\n",
    "        print(li.index(i))\n",
    "        index.append(li.index(i) + i)\n",
    "\n",
    "    return index\n",
    "\n",
    "numberplusindex([5, 4, 3, 2, 1])"
   ]
  },
  {
   "cell_type": "markdown",
   "id": "1c664d3c-19a2-4936-8c3f-0c0058b81069",
   "metadata": {},
   "source": [
    "Question3\n",
    "Create a function that takes the height and radius of a cone as arguments \n",
    "and returns the volume of the cone rounded to the nearest hundredth."
   ]
  },
  {
   "cell_type": "code",
   "execution_count": 17,
   "id": "daf55235-aa4b-4a3b-8323-a2925c94f752",
   "metadata": {},
   "outputs": [
    {
     "name": "stdout",
     "output_type": "stream",
     "text": [
      "Volume Of Cone is:  13\n"
     ]
    }
   ],
   "source": [
    "import math\n",
    "pi = math.pi\n",
    " \n",
    "def volumeCone(h, r):\n",
    "    return round((1 / 3) * pi * r * r * h)\n",
    " \n",
    "height = float(3)\n",
    "radius = float(2)\n",
    "print( \"Volume Of Cone is: \", volumeCone(height, radius) )"
   ]
  },
  {
   "cell_type": "markdown",
   "id": "b044dc4a-9cfa-4998-bfd1-652c1abe4a38",
   "metadata": {},
   "source": [
    "Question5\n",
    "Create a function that takes a list of numbers between 1 and 10 (excluding one number) \n",
    "and returns the missing number"
   ]
  },
  {
   "cell_type": "code",
   "execution_count": 22,
   "id": "8bec7c67-77bf-4e5e-8114-bc36c003256e",
   "metadata": {},
   "outputs": [
    {
     "data": {
      "text/plain": [
       "[9]"
      ]
     },
     "execution_count": 22,
     "metadata": {},
     "output_type": "execute_result"
    }
   ],
   "source": [
    "def missingnum(lst):\n",
    "    total = [x for x in range(1,11)]\n",
    "    missing=[]\n",
    "    for i in total:\n",
    "        if i in lst:\n",
    "            pass\n",
    "        else:\n",
    "            missing.append(i)\n",
    "        \n",
    "    return missing\n",
    "\n",
    "missing_num([7, 2, 3, 6, 5, 1, 4, 8,10])"
   ]
  },
  {
   "cell_type": "code",
   "execution_count": null,
   "id": "cf1fa310-5f9e-4820-974d-0567843ca630",
   "metadata": {},
   "outputs": [],
   "source": []
  }
 ],
 "metadata": {
  "kernelspec": {
   "display_name": "Python 3 (ipykernel)",
   "language": "python",
   "name": "python3"
  },
  "language_info": {
   "codemirror_mode": {
    "name": "ipython",
    "version": 3
   },
   "file_extension": ".py",
   "mimetype": "text/x-python",
   "name": "python",
   "nbconvert_exporter": "python",
   "pygments_lexer": "ipython3",
   "version": "3.10.9"
  }
 },
 "nbformat": 4,
 "nbformat_minor": 5
}
