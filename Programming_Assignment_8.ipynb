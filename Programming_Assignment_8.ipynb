{
 "cells": [
  {
   "cell_type": "code",
   "execution_count": null,
   "id": "baef91e9",
   "metadata": {},
   "outputs": [],
   "source": [
    "1.\tWrite a Python Program to Add Two Matrices?\n",
    "2.\tWrite a Python Program to Multiply Two Matrices?\n",
    "3.\tWrite a Python Program to Transpose a Matrix?\n",
    "4.\tWrite a Python Program to Sort Words in Alphabetic Order?\n",
    "5.\tWrite a Python Program to Remove Punctuation From a String?"
   ]
  },
  {
   "cell_type": "code",
   "execution_count": 1,
   "id": "3e69c328",
   "metadata": {},
   "outputs": [
    {
     "name": "stdout",
     "output_type": "stream",
     "text": [
      "[[2, 4, 6], [8, 10, 12], [14, 16, 18]]\n"
     ]
    }
   ],
   "source": [
    "a = [[1,2,3],  \n",
    "     [4,5,6],  \n",
    "     [7,8,9]]  \n",
    "  \n",
    "b = [[1,2,3],  \n",
    "     [4,5,6],  \n",
    "     [7,8,9]]  \n",
    "  \n",
    "add = [[0,0,0],\n",
    "       [0,0,0],  \n",
    "       [0,0,0]]\n",
    "for i in range(len(a)):\n",
    "        for j in range(3):\n",
    "            add[i][j]=a[i][j]+b[i][j]\n",
    "\n",
    "print(add)"
   ]
  },
  {
   "cell_type": "code",
   "execution_count": 12,
   "id": "81494b4c",
   "metadata": {},
   "outputs": [
    {
     "name": "stdout",
     "output_type": "stream",
     "text": [
      "[30, 36, 42]\n",
      "[66, 81, 96]\n",
      "[102, 126, 150]\n"
     ]
    }
   ],
   "source": [
    "a = [[1,2,3],  \n",
    "     [4,5,6],  \n",
    "     [7,8,9]]  \n",
    "  \n",
    "b = [[1,2,3],  \n",
    "     [4,5,6],  \n",
    "     [7,8,9]]  \n",
    "  \n",
    "multiply = [[0,0,0],\n",
    "            [0,0,0],  \n",
    "            [0,0,0]]\n",
    "\n",
    "for i in range(len(a)):\n",
    "    for j in range(len(b[0])):\n",
    "        for k in range(len(b)):\n",
    "            multiply[i][j] += a[i][k] * b[k][j]\n",
    "\n",
    "for r in multiply:\n",
    "    print(r)"
   ]
  },
  {
   "cell_type": "code",
   "execution_count": 13,
   "id": "176f4694",
   "metadata": {},
   "outputs": [
    {
     "name": "stdout",
     "output_type": "stream",
     "text": [
      "[[1, 3, 5], [2, 4, 6]]\n"
     ]
    }
   ],
   "source": [
    "\"\"\"Transpose of a matrix\"\"\"\n",
    "\n",
    "a = [[1,2],\n",
    "     [3,4],\n",
    "     [5,6]]\n",
    "\n",
    "t = [[0,0,0],\n",
    "     [0,0,0]]\n",
    "\n",
    "\n",
    "for i in range(len(a)):\n",
    "    for j in range(len(a[0])):\n",
    "        t[j][i] = a[i][j]\n",
    "\n",
    "print(t)"
   ]
  },
  {
   "cell_type": "code",
   "execution_count": 6,
   "id": "9206131c",
   "metadata": {},
   "outputs": [
    {
     "name": "stdout",
     "output_type": "stream",
     "text": [
      "Enter a sentence::Kishor Chandra Sahu\n",
      "Chandra\n",
      "Kishor\n",
      "Sahu\n"
     ]
    }
   ],
   "source": [
    "sentence = input(\"Enter a sentence::\")\n",
    "words = sentence.split()\n",
    "words.sort()\n",
    "for i in words:\n",
    "    print(i)"
   ]
  },
  {
   "cell_type": "code",
   "execution_count": null,
   "id": "2ff59d67",
   "metadata": {},
   "outputs": [],
   "source": []
  }
 ],
 "metadata": {
  "kernelspec": {
   "display_name": "Python 3 (ipykernel)",
   "language": "python",
   "name": "python3"
  },
  "language_info": {
   "codemirror_mode": {
    "name": "ipython",
    "version": 3
   },
   "file_extension": ".py",
   "mimetype": "text/x-python",
   "name": "python",
   "nbconvert_exporter": "python",
   "pygments_lexer": "ipython3",
   "version": "3.9.7"
  }
 },
 "nbformat": 4,
 "nbformat_minor": 5
}
