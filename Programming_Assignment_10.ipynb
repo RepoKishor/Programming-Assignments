{
 "cells": [
  {
   "cell_type": "code",
   "execution_count": null,
   "id": "d159d0d4",
   "metadata": {},
   "outputs": [],
   "source": [
    "1.\tWrite a Python program to find sum of elements in list?\n",
    "2.\tWrite a Python program to  Multiply all numbers in the list?\n",
    "3.\tWrite a Python program to find smallest number in a list?\n",
    "4.\tWrite a Python program to find largest number in a list?\n",
    "5.\tWrite a Python program to find second largest number in a list?\n",
    "6.\tWrite a Python program to find N largest elements from a list?\n",
    "7.\tWrite a Python program to print even numbers in a list?\n",
    "8.\tWrite a Python program to print odd numbers in a List?\n",
    "9.\tWrite a Python program to Remove empty List from List?\n",
    "10.\tWrite a Python program to Cloning or Copying a list?\n",
    "11.\tWrite a Python program to Count occurrences of an element in a list?"
   ]
  },
  {
   "cell_type": "code",
   "execution_count": 1,
   "id": "196cf341",
   "metadata": {},
   "outputs": [
    {
     "name": "stdout",
     "output_type": "stream",
     "text": [
      "26\n"
     ]
    }
   ],
   "source": [
    "def sum(list):\n",
    "    sum=0\n",
    "    for i in range(len(list)):\n",
    "        sum += list[i]\n",
    "    return sum\n",
    "print(sum([3,9,6,8]))"
   ]
  },
  {
   "cell_type": "code",
   "execution_count": 4,
   "id": "32167bda",
   "metadata": {},
   "outputs": [
    {
     "name": "stdout",
     "output_type": "stream",
     "text": [
      "18\n"
     ]
    }
   ],
   "source": [
    "def multi(list):\n",
    "    multi=1\n",
    "    for i in range(len(list)):\n",
    "        multi *= list[i]\n",
    "    return multi\n",
    "print(multi([3,1,3,2]))"
   ]
  },
  {
   "cell_type": "code",
   "execution_count": 8,
   "id": "6eaa4273",
   "metadata": {},
   "outputs": [
    {
     "name": "stdout",
     "output_type": "stream",
     "text": [
      "2\n"
     ]
    }
   ],
   "source": [
    "def leastElement(list):\n",
    "    least=list[0]\n",
    "    for i in range(len(list)):\n",
    "        if list[i]<=least:\n",
    "            least = list[i]\n",
    "    return least\n",
    "print(leastElement([3,4,9,2]))"
   ]
  },
  {
   "cell_type": "code",
   "execution_count": 9,
   "id": "e0825349",
   "metadata": {},
   "outputs": [
    {
     "name": "stdout",
     "output_type": "stream",
     "text": [
      "9\n"
     ]
    }
   ],
   "source": [
    "def largestElement(list):\n",
    "    largest=list[0]\n",
    "    for i in range(len(list)):\n",
    "        if list[i]>=largest:\n",
    "            largest = list[i]\n",
    "    return largest\n",
    "print(largestElement([3,4,9,2]))"
   ]
  },
  {
   "cell_type": "code",
   "execution_count": 18,
   "id": "c0cb2bf6",
   "metadata": {},
   "outputs": [
    {
     "data": {
      "text/plain": [
       "5"
      ]
     },
     "execution_count": 18,
     "metadata": {},
     "output_type": "execute_result"
    }
   ],
   "source": [
    "def secondLargest(list):\n",
    "    list.sort()\n",
    "    #print(list[-2])\n",
    "    return list[-2]\n",
    "secondLargest([3,4,9,2,5,1])"
   ]
  },
  {
   "cell_type": "code",
   "execution_count": 19,
   "id": "716eab88",
   "metadata": {},
   "outputs": [
    {
     "name": "stdout",
     "output_type": "stream",
     "text": [
      "4\n"
     ]
    }
   ],
   "source": [
    "def nthLargest(list,n):\n",
    "    list.sort()\n",
    "    return list[-n]\n",
    "print(nthLargest([3,4,9,2,5,1],3))"
   ]
  },
  {
   "cell_type": "code",
   "execution_count": 20,
   "id": "29e0e6bf",
   "metadata": {},
   "outputs": [
    {
     "name": "stdout",
     "output_type": "stream",
     "text": [
      "[4, 2]\n"
     ]
    }
   ],
   "source": [
    "def even(list):\n",
    "    evenlist=[]\n",
    "    for i in list:\n",
    "        if i%2==0:               \n",
    "            evenlist.append(i)\n",
    "    return evenlist\n",
    "\n",
    "print(even([3,4,9,2,5,1]))"
   ]
  },
  {
   "cell_type": "code",
   "execution_count": 21,
   "id": "d3bcb260",
   "metadata": {},
   "outputs": [
    {
     "name": "stdout",
     "output_type": "stream",
     "text": [
      "[3, 9, 5, 1]\n"
     ]
    }
   ],
   "source": [
    "def odd(list):\n",
    "    oddlist=[]\n",
    "    for i in list:\n",
    "        if i%2!=0:               \n",
    "            oddlist.append(i)\n",
    "    return oddlist\n",
    "\n",
    "print(odd([3,4,9,2,5,1]))"
   ]
  },
  {
   "cell_type": "code",
   "execution_count": 1,
   "id": "b41e5b82",
   "metadata": {},
   "outputs": [
    {
     "name": "stdout",
     "output_type": "stream",
     "text": [
      "['kishor', 'sahu', 'chandra']\n"
     ]
    }
   ],
   "source": [
    "list = [[], [], [], 'kishor', 'sahu',[], 'chandra']\n",
    "list1 = []\n",
    "for item in list:\n",
    "    if item!=[]:\n",
    "        list1.append(item)\n",
    "print(list1)"
   ]
  },
  {
   "cell_type": "code",
   "execution_count": 3,
   "id": "8499b167",
   "metadata": {},
   "outputs": [
    {
     "name": "stdout",
     "output_type": "stream",
     "text": [
      "['kishor', 'sahu', 'chandra']\n",
      "['kishor', 'sahu', 'chandra']\n"
     ]
    }
   ],
   "source": [
    "list = ['kishor', 'sahu', 'chandra']\n",
    "list1 = list\n",
    "print(list1)\n",
    "# Another way to clone is \n",
    "list2 = list[:]\n",
    "print(list2)"
   ]
  },
  {
   "cell_type": "code",
   "execution_count": 4,
   "id": "9860cb07",
   "metadata": {},
   "outputs": [
    {
     "data": {
      "text/plain": [
       "3"
      ]
     },
     "execution_count": 4,
     "metadata": {},
     "output_type": "execute_result"
    }
   ],
   "source": [
    "def countOccurence(list,n):\n",
    "    frequency=0\n",
    "    for i in list:\n",
    "        if i == n:\n",
    "            frequency +=1\n",
    "    return frequency\n",
    "\n",
    "countOccurence([3,4,3,2,3,2],3)"
   ]
  },
  {
   "cell_type": "code",
   "execution_count": 7,
   "id": "3806577d",
   "metadata": {},
   "outputs": [
    {
     "name": "stdout",
     "output_type": "stream",
     "text": [
      "6\n"
     ]
    }
   ],
   "source": [
    "# ANother way to count the frequency of a number in a list\n",
    "list=[3,4,3,2,3,2,2,2,2,2]\n",
    "print(list.count(2))"
   ]
  },
  {
   "cell_type": "code",
   "execution_count": null,
   "id": "523bda75",
   "metadata": {},
   "outputs": [],
   "source": []
  }
 ],
 "metadata": {
  "kernelspec": {
   "display_name": "Python 3 (ipykernel)",
   "language": "python",
   "name": "python3"
  },
  "language_info": {
   "codemirror_mode": {
    "name": "ipython",
    "version": 3
   },
   "file_extension": ".py",
   "mimetype": "text/x-python",
   "name": "python",
   "nbconvert_exporter": "python",
   "pygments_lexer": "ipython3",
   "version": "3.9.7"
  }
 },
 "nbformat": 4,
 "nbformat_minor": 5
}
