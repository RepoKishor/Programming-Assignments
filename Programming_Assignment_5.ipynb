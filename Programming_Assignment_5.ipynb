{
 "cells": [
  {
   "cell_type": "code",
   "execution_count": null,
   "id": "99698b86",
   "metadata": {},
   "outputs": [],
   "source": [
    "1.\tWrite a Python Program to Find LCM?\n",
    "2.\tWrite a Python Program to Find HCF?\n",
    "3.\tWrite a Python Program to Convert Decimal to Binary, Octal and Hexadecimal?\n",
    "4.\tWrite a Python Program To Find ASCII value of a character?\n",
    "5.\tWrite a Python Program to Make a Simple Calculator with 4 basic mathematical operations?"
   ]
  },
  {
   "cell_type": "code",
   "execution_count": 2,
   "id": "3447f7ff",
   "metadata": {},
   "outputs": [
    {
     "name": "stdout",
     "output_type": "stream",
     "text": [
      "1\n"
     ]
    }
   ],
   "source": [
    "\"\"\"HCF Of two numbers\"\"\"\n",
    "\n",
    "def getHCF(a,b):\n",
    "    hcf=1\n",
    "    if a<b:\n",
    "        smaller=a\n",
    "    else:\n",
    "        smaller=b\n",
    "    for i in range(1,smaller+1):\n",
    "        if (a%i == 0)and (b%i ==0):\n",
    "            hcf=i\n",
    "    return hcf\n",
    "\n",
    "print(getHCF(5,6))"
   ]
  },
  {
   "cell_type": "code",
   "execution_count": 5,
   "id": "d055c41f",
   "metadata": {},
   "outputs": [
    {
     "name": "stdout",
     "output_type": "stream",
     "text": [
      "Enter the decimal number 30\n",
      "The binary converted number is ::  0b11110\n",
      "The octal converted number is ::  0o36\n",
      "The hexadecimal converted number is ::  0x1e\n"
     ]
    }
   ],
   "source": [
    "num = int(input(\"Enter the decimal number \"))\n",
    "print(\"The binary converted number is :: \",bin(num))\n",
    "print(\"The octal converted number is :: \",oct(num))\n",
    "print(\"The hexadecimal converted number is :: \",hex(num))"
   ]
  },
  {
   "cell_type": "code",
   "execution_count": 6,
   "id": "db377b33",
   "metadata": {},
   "outputs": [
    {
     "name": "stdout",
     "output_type": "stream",
     "text": [
      "65\n"
     ]
    }
   ],
   "source": [
    "print(ord('A'))"
   ]
  },
  {
   "cell_type": "code",
   "execution_count": 10,
   "id": "dcf72e24",
   "metadata": {},
   "outputs": [
    {
     "name": "stdout",
     "output_type": "stream",
     "text": [
      "Enter the operation you want(1 to 4): 1-Addition, 2-Subtraction,3-Multiplication, 4-Division3\n",
      "Enter the first number::5\n",
      "Enter the second number::6\n",
      "Multiplication of the two numbers is:: 30\n"
     ]
    }
   ],
   "source": [
    "\"\"\"Simple calculator\"\"\"\n",
    "def add(a,b):\n",
    "    return a + b\n",
    "\n",
    "# This function subtracts two numbers\n",
    "def subtract(a, b):\n",
    "    return a-b\n",
    "\n",
    "\n",
    "def multiply(a,b):\n",
    "    return a*b\n",
    "\n",
    "\n",
    "def divide(a,b):\n",
    "    try:\n",
    "        return a/b\n",
    "    except Exception as ex:\n",
    "        print(\"Division by zero error\")\n",
    "\n",
    "operation = input(\"Enter the operation you want(1 to 4): 1-Addition, 2-Subtraction,3-Multiplication, 4-Division\") \n",
    "x=int(input(\"Enter the first number::\"))\n",
    "y=int(input(\"Enter the second number::\"))\n",
    "if operation=='1':\n",
    "    print(\"Addition of two number is ::\",add(x,y))\n",
    "elif operation=='2':\n",
    "    print(\"Subtraction of the two numbers is::\",subtract(x,y))\n",
    "elif operation=='3':\n",
    "    print(\"Multiplication of the two numbers is::\",multiply(x,y))\n",
    "elif opeation =='4':\n",
    "    print(\"Division of the two numbers is::\",divide(x,y))"
   ]
  },
  {
   "cell_type": "code",
   "execution_count": null,
   "id": "848032e9",
   "metadata": {},
   "outputs": [],
   "source": []
  }
 ],
 "metadata": {
  "kernelspec": {
   "display_name": "Python 3 (ipykernel)",
   "language": "python",
   "name": "python3"
  },
  "language_info": {
   "codemirror_mode": {
    "name": "ipython",
    "version": 3
   },
   "file_extension": ".py",
   "mimetype": "text/x-python",
   "name": "python",
   "nbconvert_exporter": "python",
   "pygments_lexer": "ipython3",
   "version": "3.9.7"
  }
 },
 "nbformat": 4,
 "nbformat_minor": 5
}
