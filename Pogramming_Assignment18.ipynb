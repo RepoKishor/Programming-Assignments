{
 "cells": [
  {
   "cell_type": "markdown",
   "id": "0ec2bc34-704d-424d-92af-ec6de6f93ea6",
   "metadata": {},
   "source": [
    "Question 1\n",
    "Create a function that takes a list of non-negative integers and strings and \n",
    "return a new list without the strings"
   ]
  },
  {
   "cell_type": "code",
   "execution_count": 2,
   "id": "da702757-a1be-484e-aca2-ebcfb01b1aef",
   "metadata": {},
   "outputs": [
    {
     "name": "stdout",
     "output_type": "stream",
     "text": [
      "[1, 0, 15]\n"
     ]
    }
   ],
   "source": [
    "li = [1, \"a\", \"b\", 0, 15]\n",
    "\n",
    "def filter_list(li):\n",
    "    li1 = []\n",
    "    for i in li:\n",
    "        if type(i) == int:\n",
    "            li1.append(i)\n",
    "    return li1\n",
    "\n",
    "print(filter_list(li))"
   ]
  },
  {
   "cell_type": "markdown",
   "id": "01e3f34c-97e3-42e7-a020-614873f97e34",
   "metadata": {},
   "source": [
    "Question 2\n",
    "The \"Reverser\" takes a string as input and returns that string in reverse order, with the opposite case."
   ]
  },
  {
   "cell_type": "code",
   "execution_count": 3,
   "id": "09e6e4a8-c354-4ded-9efb-2e339889e656",
   "metadata": {},
   "outputs": [
    {
     "name": "stdout",
     "output_type": "stream",
     "text": [
      "DLROw OLLEh\n"
     ]
    }
   ],
   "source": [
    "\n",
    "def reverse(str):\n",
    "    str = str[::-1]\n",
    "    return str.swapcase()\n",
    "print(reverse('Hello World'))"
   ]
  },
  {
   "cell_type": "markdown",
   "id": "11f69921-0a58-4f15-8540-3fa2170014dd",
   "metadata": {},
   "source": [
    "Question 3\n",
    "You can assign variables from lists like this"
   ]
  },
  {
   "cell_type": "code",
   "execution_count": 6,
   "id": "51ecf80f-dd0e-4224-a128-f351e2e8623a",
   "metadata": {},
   "outputs": [
    {
     "data": {
      "text/plain": [
       "[2, 3, 4, 5]"
      ]
     },
     "execution_count": 6,
     "metadata": {},
     "output_type": "execute_result"
    }
   ],
   "source": [
    "list3 = [1, 2, 3, 4, 5, 6]\n",
    "first ,*middle,last = list3\n",
    "middle"
   ]
  },
  {
   "cell_type": "markdown",
   "id": "8335db9d-d1dd-42ce-b9a5-9f343287ab67",
   "metadata": {},
   "source": [
    "Question 4\n",
    "Write a function that calculates the factorial of a number recursively"
   ]
  },
  {
   "cell_type": "code",
   "execution_count": 7,
   "id": "302b9761-7de1-4401-93fe-d13fc5ee912b",
   "metadata": {},
   "outputs": [
    {
     "name": "stdin",
     "output_type": "stream",
     "text": [
      "enter a number : 4\n"
     ]
    },
    {
     "name": "stdout",
     "output_type": "stream",
     "text": [
      "Factorial is: 24\n"
     ]
    }
   ],
   "source": [
    "def factorial(n):     \n",
    "    if n == 0:\n",
    "        return 1    \n",
    "    return n * factorial(n-1)\n",
    "\n",
    "num = int(input('enter a number :'))\n",
    "print(\"Factorial is:\", factorial(num))"
   ]
  },
  {
   "cell_type": "markdown",
   "id": "34980011-fff1-46a4-aefd-ff3fcb9c5827",
   "metadata": {},
   "source": [
    "Question 5\n",
    "Write a function that moves all elements of one type to the end of the list"
   ]
  },
  {
   "cell_type": "code",
   "execution_count": 13,
   "id": "6ddd40b6-fa86-4425-ae9e-cf737b0126b2",
   "metadata": {},
   "outputs": [],
   "source": [
    "def movetoend(array, move):   \n",
    "    i = 0\n",
    "    j = len(array) - 1\n",
    "    while (i < j):\n",
    "        while (i < j and array[j] == move):\n",
    "            j-=1\n",
    "        if (array[i] == move):\n",
    "            array[i], array[j] = array[j] , array[i]\n",
    "        i += 1\n",
    "    return array"
   ]
  },
  {
   "cell_type": "code",
   "execution_count": 14,
   "id": "1d2b8922-861e-473b-853f-3f3316f752a6",
   "metadata": {},
   "outputs": [
    {
     "name": "stdout",
     "output_type": "stream",
     "text": [
      "[7, 8, 4, 1, 2, 3, 9]\n"
     ]
    }
   ],
   "source": [
    "arr = [7, 8, 9, 1, 2, 3, 4]\n",
    "move = 9\n",
    "resultList = movetoend(arr, move)\n",
    "print(resultList)"
   ]
  },
  {
   "cell_type": "code",
   "execution_count": null,
   "id": "286a4e23-7ed8-4df7-9315-5c02b2543b26",
   "metadata": {},
   "outputs": [],
   "source": []
  }
 ],
 "metadata": {
  "kernelspec": {
   "display_name": "Python 3 (ipykernel)",
   "language": "python",
   "name": "python3"
  },
  "language_info": {
   "codemirror_mode": {
    "name": "ipython",
    "version": 3
   },
   "file_extension": ".py",
   "mimetype": "text/x-python",
   "name": "python",
   "nbconvert_exporter": "python",
   "pygments_lexer": "ipython3",
   "version": "3.10.9"
  }
 },
 "nbformat": 4,
 "nbformat_minor": 5
}
