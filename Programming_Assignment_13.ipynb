{
 "cells": [
  {
   "cell_type": "code",
   "execution_count": 6,
   "id": "6cbefa77",
   "metadata": {},
   "outputs": [
    {
     "name": "stdout",
     "output_type": "stream",
     "text": [
      "['18', '22', '24']\n"
     ]
    }
   ],
   "source": [
    "# Q1\n",
    "import math\n",
    "c=50\n",
    "h=30\n",
    "output = []\n",
    "sequence = \"100,150,180\"\n",
    "li = sequence.split(',')\n",
    "for d in li:\n",
    "    output.append(str(int(round(math.sqrt(2*c*float(d)/h)))))\n",
    "print(output)"
   ]
  },
  {
   "cell_type": "code",
   "execution_count": 7,
   "id": "d3efac9e",
   "metadata": {},
   "outputs": [
    {
     "name": "stdout",
     "output_type": "stream",
     "text": [
      "[[0, 0, 0, 0, 0], [0, 1, 2, 3, 4], [0, 2, 4, 6, 8]]\n"
     ]
    }
   ],
   "source": [
    "#Q2\n",
    "rows=3\n",
    "cols=5\n",
    "matrix=[]\n",
    "for i in range(rows):\n",
    "    row=[]\n",
    "    for j in range(cols):\n",
    "        row.append(i*j)\n",
    "    matrix.append(row)\n",
    "print(matrix)"
   ]
  },
  {
   "cell_type": "code",
   "execution_count": 13,
   "id": "d54eff66",
   "metadata": {},
   "outputs": [
    {
     "name": "stdout",
     "output_type": "stream",
     "text": [
      "['without', 'hello', 'bag', 'world']\n",
      "['bag', 'hello', 'without', 'world']\n"
     ]
    },
    {
     "data": {
      "text/plain": [
       "'bag,hello,without,world'"
      ]
     },
     "execution_count": 13,
     "metadata": {},
     "output_type": "execute_result"
    }
   ],
   "source": [
    "#Q3\n",
    "sentence = \"without,hello,bag,world\"\n",
    "flat = sentence.split(',')\n",
    "print(flat)\n",
    "flat.sort()\n",
    "print(flat)\n",
    "','.join(flat)"
   ]
  },
  {
   "cell_type": "code",
   "execution_count": 17,
   "id": "fd94d4ad",
   "metadata": {},
   "outputs": [
    {
     "name": "stdout",
     "output_type": "stream",
     "text": [
      "4\n",
      "7\n"
     ]
    }
   ],
   "source": [
    "#Q5\n",
    "def countDigitsLetters(string):\n",
    "    count_digit=0\n",
    "    count_letter=0\n",
    "    for s in string:\n",
    "        if s.isnumeric():\n",
    "            count_digit +=1\n",
    "        else:\n",
    "            count_letter +=1\n",
    "    print(count_digit)\n",
    "    print(count_letter)\n",
    "countDigitsLetters(\"KISHOR1975\")"
   ]
  },
  {
   "cell_type": "code",
   "execution_count": 52,
   "id": "e2544847",
   "metadata": {},
   "outputs": [
    {
     "name": "stdout",
     "output_type": "stream",
     "text": [
      "k\n",
      "i\n",
      "s\n",
      "h\n",
      "o\n",
      "r\n",
      "@\n",
      "*\n",
      "password is not accepted\n",
      "1\n",
      "2\n",
      "3\n"
     ]
    }
   ],
   "source": [
    "#Q6 check password\n",
    "import re\n",
    "def checkPassword(pwd):\n",
    "    li=[]\n",
    "    flag=0\n",
    "    for i in pwd:\n",
    "        print(i)\n",
    "        if len(pwd) <6 or len(pwd) >12:\n",
    "            break\n",
    "        elif re.search(\"([a-z])+\",i):\n",
    "            continue\n",
    "        elif re.search(\"([0-9])+\",i):\n",
    "            continue\n",
    "        elif re.search(\"([A-Z])+\",i):\n",
    "            continue\n",
    "        elif re.search(\"([$#@])+\",i):\n",
    "            continue\n",
    "        else:\n",
    "            print(\"password is not accepted\")\n",
    "            flag=-1\n",
    "    if(flag==0):\n",
    "        print(\"valid password\")\n",
    "checkPassword(\"kishor@*123\")"
   ]
  },
  {
   "cell_type": "code",
   "execution_count": 53,
   "id": "b9c5900e",
   "metadata": {},
   "outputs": [
    {
     "name": "stdout",
     "output_type": "stream",
     "text": [
      "Enter a lst of words separated by whitespaces::hello world and practice makes perfect and hello world again\n",
      "['again', 'and', 'hello', 'makes', 'perfect', 'practice', 'world']\n",
      "again and hello makes perfect practice world\n"
     ]
    }
   ],
   "source": [
    "#Q4\n",
    "string = input(\"Enter a lst of words separated by whitespaces::\")\n",
    "string_1= string.split(\" \")\n",
    "li=[]\n",
    "for i in string_1:\n",
    "    if i not in li:\n",
    "        li.append(i)\n",
    "li.sort()\n",
    "print(li)\n",
    "print(\" \".join(li))"
   ]
  },
  {
   "cell_type": "code",
   "execution_count": null,
   "id": "10c76620",
   "metadata": {},
   "outputs": [],
   "source": []
  }
 ],
 "metadata": {
  "kernelspec": {
   "display_name": "Python 3 (ipykernel)",
   "language": "python",
   "name": "python3"
  },
  "language_info": {
   "codemirror_mode": {
    "name": "ipython",
    "version": 3
   },
   "file_extension": ".py",
   "mimetype": "text/x-python",
   "name": "python",
   "nbconvert_exporter": "python",
   "pygments_lexer": "ipython3",
   "version": "3.9.7"
  }
 },
 "nbformat": 4,
 "nbformat_minor": 5
}
