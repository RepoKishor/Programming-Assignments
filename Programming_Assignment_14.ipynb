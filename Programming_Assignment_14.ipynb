{
 "cells": [
  {
   "cell_type": "code",
   "execution_count": 2,
   "id": "cd2f2dec",
   "metadata": {},
   "outputs": [
    {
     "name": "stdout",
     "output_type": "stream",
     "text": [
      "Enter the range of numbers::50\n",
      "[0, 7, 14, 21, 28, 35, 42, 49]\n"
     ]
    }
   ],
   "source": [
    "#Q1\n",
    "n = int(input(\"Enter the range of numbers::\"))\n",
    "divisiblebyseven = [i for i in range(0,n) if (i%7==0)]\n",
    "print(divisiblebyseven)"
   ]
  },
  {
   "cell_type": "code",
   "execution_count": 6,
   "id": "87ce3e37",
   "metadata": {},
   "outputs": [
    {
     "name": "stdout",
     "output_type": "stream",
     "text": [
      "Write your sentence:New to Python or choosing between Python 2 and Python 3? Read Python 2 or Python 3\n",
      "{'New': 1, 'to': 1, 'Python': 5, 'or': 2, 'choosing': 1, 'between': 1, 'and': 1, 'Read': 1}\n",
      "[('New', 1), ('Python', 5), ('Read', 1), ('and', 1), ('between', 1), ('choosing', 1), ('or', 2), ('to', 1)]\n"
     ]
    }
   ],
   "source": [
    "#Q2\n",
    "txt = input(\"Write your sentence:\")\n",
    "frequency_words = {}\n",
    "for i in txt.split(' '):\n",
    "    if i.isalpha():\n",
    "        if i not in frequency_words:\n",
    "            frequency_words[i] = 1\n",
    "        else:\n",
    "            frequency_words[i] = frequency_words[i]+1\n",
    "    else:\n",
    "        pass\n",
    "\n",
    "print(frequency_words)\n",
    "sorted_frequency_words = sorted(frequency_words.items())\n",
    "print(sorted_frequency_words)"
   ]
  },
  {
   "cell_type": "code",
   "execution_count": 8,
   "id": "70ce26c0",
   "metadata": {},
   "outputs": [
    {
     "name": "stdout",
     "output_type": "stream",
     "text": [
      "Male\n",
      "Female\n"
     ]
    }
   ],
   "source": [
    "#Q3\n",
    "class Person():\n",
    "    def getGender(self):\n",
    "        print('Person')\n",
    "class Male(Person):\n",
    "    def getGender(self):\n",
    "        print('Male')\n",
    "class Female(Person):\n",
    "    def getGender(self):\n",
    "        print('Female')\n",
    "\n",
    "male = Male()\n",
    "female = Female()\n",
    "male.getGender()\n",
    "female.getGender()"
   ]
  },
  {
   "cell_type": "code",
   "execution_count": 11,
   "id": "de94a4b4",
   "metadata": {},
   "outputs": [
    {
     "name": "stdout",
     "output_type": "stream",
     "text": [
      "Compressed:  b'x\\x9c\\xcbH\\xcd\\xc9\\xc9W(\\xcf/\\xcaIQ\\xcc \\x82\\r\\x00\\xbd[\\x11\\xf5'\n"
     ]
    }
   ],
   "source": [
    "#Q5\n",
    "import zlib\n",
    "text=\"hello world!hello world!hello world!hello world!\"\n",
    "y = bytes(text, 'utf-8')\n",
    "comp=zlib.compress(y)\n",
    "print(\"Compressed: \", comp)"
   ]
  },
  {
   "cell_type": "code",
   "execution_count": 17,
   "id": "96750bee",
   "metadata": {},
   "outputs": [
    {
     "name": "stdout",
     "output_type": "stream",
     "text": [
      "Enter the number to be searched:14\n",
      "The number is not present in the array\n"
     ]
    }
   ],
   "source": [
    "#Q6\n",
    "def binarySearch(arr,num):\n",
    "    min=0\n",
    "    max= len(arr)\n",
    "    mid=0\n",
    "    while min<max:\n",
    "        mid = (max+min)//2\n",
    "        #print(mid, arr[mid])\n",
    "        if arr[mid]>num:\n",
    "            max=mid-1\n",
    "        elif arr[mid]<num:\n",
    "            min = mid+1\n",
    "        else:\n",
    "            return mid\n",
    "    return -99999\n",
    "\n",
    "num = int(input(\"Enter the number to be searched:\"))\n",
    "arr=[1,2,3,4,5,6,7,8,9,10,11]\n",
    "index = binarySearch(arr,num)\n",
    "if (index== -99999):\n",
    "    print(\"The number is not present in the array\")\n",
    "else:\n",
    "    print(\"The number is present at the index:\", index)\n",
    "    "
   ]
  },
  {
   "cell_type": "code",
   "execution_count": null,
   "id": "a5376723",
   "metadata": {},
   "outputs": [],
   "source": []
  }
 ],
 "metadata": {
  "kernelspec": {
   "display_name": "Python 3 (ipykernel)",
   "language": "python",
   "name": "python3"
  },
  "language_info": {
   "codemirror_mode": {
    "name": "ipython",
    "version": 3
   },
   "file_extension": ".py",
   "mimetype": "text/x-python",
   "name": "python",
   "nbconvert_exporter": "python",
   "pygments_lexer": "ipython3",
   "version": "3.9.7"
  }
 },
 "nbformat": 4,
 "nbformat_minor": 5
}
