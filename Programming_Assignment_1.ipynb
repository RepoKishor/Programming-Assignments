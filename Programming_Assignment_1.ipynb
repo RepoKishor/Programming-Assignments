{
 "cells": [
  {
   "cell_type": "code",
   "execution_count": null,
   "id": "82941380",
   "metadata": {},
   "outputs": [],
   "source": [
    "1.\tWrite a Python program to print \"Hello Python\"?\n",
    "2.\tWrite a Python program to do arithmetical operations addition and division.?\n",
    "3.\tWrite a Python program to find the area of a triangle?\n",
    "4.\tWrite a Python program to swap two variables?\n",
    "5.\tWrite a Python program to generate a random number?"
   ]
  },
  {
   "cell_type": "code",
   "execution_count": null,
   "id": "810f0998",
   "metadata": {},
   "outputs": [],
   "source": [
    "print(\"Hello Python\")"
   ]
  },
  {
   "cell_type": "code",
   "execution_count": 8,
   "id": "b49a23eb",
   "metadata": {},
   "outputs": [
    {
     "name": "stdout",
     "output_type": "stream",
     "text": [
      "12\n"
     ]
    }
   ],
   "source": [
    "def add(*args):\n",
    "    s=0\n",
    "    for i in args:\n",
    "        if type(i) == int:\n",
    "            s +=i\n",
    "    return s\n",
    "print(add(3,4,5,'t','r'))"
   ]
  },
  {
   "cell_type": "code",
   "execution_count": 13,
   "id": "165af725",
   "metadata": {},
   "outputs": [
    {
     "name": "stdout",
     "output_type": "stream",
     "text": [
      "Cannot divide by zero..\n"
     ]
    }
   ],
   "source": [
    "def divide(a,b):\n",
    "    d=0\n",
    "    try:\n",
    "        d= a/b\n",
    "        print(\"The division value is :\", d)\n",
    "    except Exception as ex:\n",
    "        print(\"Cannot divide by zero..\")\n",
    "\n",
    "divide(4,0)"
   ]
  },
  {
   "cell_type": "code",
   "execution_count": 16,
   "id": "c06a9530",
   "metadata": {},
   "outputs": [
    {
     "name": "stdout",
     "output_type": "stream",
     "text": [
      "Enter first side: 4\n",
      "Enter second side: 5\n",
      "Enter third side: 6\n",
      "63.49803146555018\n"
     ]
    }
   ],
   "source": [
    "def areaTriangle(a,b,c):\n",
    "    s=0\n",
    "    area=0\n",
    "    try:\n",
    "        if (a + b <= c) or (a + c <= b) or (b + c <= a) :\n",
    "            print(\"With these sides a triangle is not possible\")\n",
    "            return area\n",
    "        else:\n",
    "            s=a+b+c/2\n",
    "            area= (s*(s-a)*(s-b)*(s-c))**0.5\n",
    "            return area\n",
    "    except Exception as ex:\n",
    "        print(ex)\n",
    "\n",
    "a = float(input('Enter first side: '))\n",
    "b = float(input('Enter second side: '))\n",
    "c = float(input('Enter third side: '))\n",
    "area = areaTriangle(a,b,c)\n",
    "print(area)"
   ]
  },
  {
   "cell_type": "code",
   "execution_count": 17,
   "id": "98d05a8b",
   "metadata": {},
   "outputs": [
    {
     "name": "stdout",
     "output_type": "stream",
     "text": [
      "(5, 4)\n"
     ]
    }
   ],
   "source": [
    "\"\"\" swap two variables\"\"\"\n",
    "def swap(a,b):\n",
    "    a=a+b\n",
    "    b=a-b\n",
    "    a=a-b\n",
    "    return a,b\n",
    "\n",
    "print(swap(4,5))"
   ]
  },
  {
   "cell_type": "code",
   "execution_count": 18,
   "id": "5bab4af1",
   "metadata": {},
   "outputs": [
    {
     "name": "stdout",
     "output_type": "stream",
     "text": [
      "6\n"
     ]
    }
   ],
   "source": [
    "import random\n",
    "\n",
    "print(random.randint(1,10))"
   ]
  },
  {
   "cell_type": "code",
   "execution_count": null,
   "id": "a66567c6",
   "metadata": {},
   "outputs": [],
   "source": []
  }
 ],
 "metadata": {
  "kernelspec": {
   "display_name": "Python 3 (ipykernel)",
   "language": "python",
   "name": "python3"
  },
  "language_info": {
   "codemirror_mode": {
    "name": "ipython",
    "version": 3
   },
   "file_extension": ".py",
   "mimetype": "text/x-python",
   "name": "python",
   "nbconvert_exporter": "python",
   "pygments_lexer": "ipython3",
   "version": "3.9.7"
  }
 },
 "nbformat": 4,
 "nbformat_minor": 5
}
