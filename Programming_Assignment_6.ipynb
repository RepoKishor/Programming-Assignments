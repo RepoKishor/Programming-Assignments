{
 "cells": [
  {
   "cell_type": "code",
   "execution_count": null,
   "id": "fd705246",
   "metadata": {},
   "outputs": [],
   "source": [
    "1.\tWrite a Python Program to Display Fibonacci Sequence Using Recursion?\n",
    "2.\tWrite a Python Program to Find Factorial of Number Using Recursion?\n",
    "3.\tWrite a Python Program to calculate your Body Mass Index?\n",
    "4.\tWrite a Python Program to calculate the natural logarithm of any number?\n",
    "5.\tWrite a Python Program for cube sum of first n natural numbers?"
   ]
  },
  {
   "cell_type": "code",
   "execution_count": 4,
   "id": "324a5bbb",
   "metadata": {},
   "outputs": [
    {
     "name": "stdout",
     "output_type": "stream",
     "text": [
      "Enter a positive number::5\n",
      "0 :: 0\n",
      "1 :: 1\n",
      "1 :: 2\n",
      "2 :: 3\n",
      "3 :: 4\n"
     ]
    }
   ],
   "source": [
    "def recursive_fibonacci(num):\n",
    "    if num>1:\n",
    "        return (recursive_fibonacci(num-1) + recursive_fibonacci(num-2))\n",
    "    else:\n",
    "        return num\n",
    "\n",
    "n=int(input(\"Enter a positive number::\"))\n",
    "for i in range(n):\n",
    "    print(recursive_fibonacci(i),\"::\",i)"
   ]
  },
  {
   "cell_type": "code",
   "execution_count": 5,
   "id": "d51240ed",
   "metadata": {},
   "outputs": [
    {
     "name": "stdout",
     "output_type": "stream",
     "text": [
      "24\n"
     ]
    }
   ],
   "source": [
    "def recursive_factorial(n):\n",
    "    if n>1:\n",
    "        return n*recursive_factorial(n-1)\n",
    "    else:\n",
    "        return n\n",
    "\n",
    "print(recursive_factorial(4))"
   ]
  },
  {
   "cell_type": "code",
   "execution_count": 8,
   "id": "fe90cbda",
   "metadata": {},
   "outputs": [
    {
     "name": "stdout",
     "output_type": "stream",
     "text": [
      "Enter your height in ft:5.5\n",
      "Enter your weight in kg:65\n",
      "Your body mass index is:: 23.129063705326676\n"
     ]
    }
   ],
   "source": [
    "height=float(input(\"Enter your height in ft:\"))\n",
    "weight=float(input(\"Enter your weight in kg:\"))\n",
    "bodymassindex = weight/ ((height*30.48/100)**2)\n",
    "print(\"Your body mass index is::\",bodymassindex)"
   ]
  },
  {
   "cell_type": "code",
   "execution_count": 9,
   "id": "64eaa658",
   "metadata": {},
   "outputs": [
    {
     "name": "stdout",
     "output_type": "stream",
     "text": [
      "4.605170185988092\n"
     ]
    }
   ],
   "source": [
    "import math\n",
    "print(math.log(100))"
   ]
  },
  {
   "cell_type": "code",
   "execution_count": 10,
   "id": "283cc335",
   "metadata": {},
   "outputs": [
    {
     "name": "stdout",
     "output_type": "stream",
     "text": [
      "225.0\n"
     ]
    }
   ],
   "source": [
    "\"\"\"sum of the cubes of the first n natural numbers \"\"\"\n",
    "def cubesum(n):\n",
    "    sum = (n*(n+1)/2)**2\n",
    "    return sum\n",
    "\n",
    "print(cubesum(5))"
   ]
  },
  {
   "cell_type": "code",
   "execution_count": null,
   "id": "db0f597a",
   "metadata": {},
   "outputs": [],
   "source": []
  }
 ],
 "metadata": {
  "kernelspec": {
   "display_name": "Python 3 (ipykernel)",
   "language": "python",
   "name": "python3"
  },
  "language_info": {
   "codemirror_mode": {
    "name": "ipython",
    "version": 3
   },
   "file_extension": ".py",
   "mimetype": "text/x-python",
   "name": "python",
   "nbconvert_exporter": "python",
   "pygments_lexer": "ipython3",
   "version": "3.9.12"
  }
 },
 "nbformat": 4,
 "nbformat_minor": 5
}
