{
 "cells": [
  {
   "cell_type": "markdown",
   "id": "750614d1-b276-4916-96a9-d6dd032bc34a",
   "metadata": {},
   "source": [
    "Create a function that takes a number as an argument and returns True or False depending on whether the number is symmetrical or not. A number is symmetrical when it is the same as its reverse."
   ]
  },
  {
   "cell_type": "code",
   "execution_count": 6,
   "id": "117aefd5-a558-4926-97c8-ef4ebb9a13f6",
   "metadata": {},
   "outputs": [],
   "source": [
    "def is_symmetrical(num):\n",
    "    currentDigit = reversedNumber = 0\n",
    "    remainingNum = num\n",
    "    while(remainingNum != 0):\n",
    "        currentDigit = remainingNum % 10\n",
    "        reversedNumber = reversedNumber * 10 + currentDigit        \n",
    "        remainingNum = remainingNum // 10\n",
    "    print('Reveresed number :',reversedNumber)\n",
    "    if reversedNumber == num:\n",
    "        print('Num {} is symmetrical'.format(num))\n",
    "    else:\n",
    "        print('Num {} is not symmetrical'.format(num))"
   ]
  },
  {
   "cell_type": "code",
   "execution_count": 7,
   "id": "c6b17c2f-6325-4eba-9f84-7807fca24f38",
   "metadata": {},
   "outputs": [
    {
     "name": "stdout",
     "output_type": "stream",
     "text": [
      "Reveresed number : 7227\n",
      "Num 7227 is symmetrical\n"
     ]
    }
   ],
   "source": [
    "is_symmetrical(7227)"
   ]
  },
  {
   "cell_type": "markdown",
   "id": "e1ac6689-982a-4712-8095-be0fad7e94af",
   "metadata": {},
   "source": [
    "Given a string of numbers separated by a comma and space, return the product of the numbers"
   ]
  },
  {
   "cell_type": "code",
   "execution_count": 8,
   "id": "470d9561-125e-4382-b858-7aa83eb5640f",
   "metadata": {},
   "outputs": [],
   "source": [
    "def productof_nums(string):\n",
    "    string = string.replace(' ', \"\")\n",
    "    string = string.split(',')\n",
    "    sum = 1\n",
    "    for i in string:\n",
    "        sum = sum * int(i)\n",
    "    return sum"
   ]
  },
  {
   "cell_type": "code",
   "execution_count": 9,
   "id": "a40c9fda-6de6-4256-91be-46a2d6b436c0",
   "metadata": {},
   "outputs": [
    {
     "data": {
      "text/plain": [
       "24"
      ]
     },
     "execution_count": 9,
     "metadata": {},
     "output_type": "execute_result"
    }
   ],
   "source": [
    "productof_nums(\"1, 2, 3, 4\")"
   ]
  },
  {
   "cell_type": "markdown",
   "id": "0584ba29-1ef5-4a28-97af-5a1a13390cfa",
   "metadata": {},
   "source": [
    "Create a function that squares every digit of a number"
   ]
  },
  {
   "cell_type": "code",
   "execution_count": 10,
   "id": "e48d02cb-adf5-4c34-a7f4-9dc945dd4b2a",
   "metadata": {},
   "outputs": [],
   "source": [
    "def square_digits(num):\n",
    "    square = ''.join(str(int(i)**2) for i in str(num))\n",
    "    return int(square)"
   ]
  },
  {
   "cell_type": "code",
   "execution_count": 11,
   "id": "59ec4e54-2f36-40af-8eee-966ba7786e46",
   "metadata": {},
   "outputs": [
    {
     "data": {
      "text/plain": [
       "811181"
      ]
     },
     "execution_count": 11,
     "metadata": {},
     "output_type": "execute_result"
    }
   ],
   "source": [
    "square_digits(9119)"
   ]
  },
  {
   "cell_type": "markdown",
   "id": "aa55f44a-4391-4286-8cf0-865702dd760d",
   "metadata": {},
   "source": [
    "Create a function that sorts a list and removes all duplicate items from it"
   ]
  },
  {
   "cell_type": "code",
   "execution_count": 12,
   "id": "a3b09b89-d03b-41c9-9446-b72a601d7089",
   "metadata": {},
   "outputs": [],
   "source": [
    "def setify(li):\n",
    "    return list(set(li))"
   ]
  },
  {
   "cell_type": "code",
   "execution_count": 13,
   "id": "23a7f587-d193-4195-ac0c-3eadcb9c31e0",
   "metadata": {},
   "outputs": [
    {
     "data": {
      "text/plain": [
       "[1, 3, 5]"
      ]
     },
     "execution_count": 13,
     "metadata": {},
     "output_type": "execute_result"
    }
   ],
   "source": [
    "setify([1, 3, 3, 5, 5])"
   ]
  },
  {
   "cell_type": "markdown",
   "id": "5aa6de68-32b1-47fe-8e5a-a182f0b41dea",
   "metadata": {},
   "source": [
    "Create a function that returns the mean of all digits"
   ]
  },
  {
   "cell_type": "code",
   "execution_count": 17,
   "id": "487d534f-6b81-43fd-a882-c061f268ebd9",
   "metadata": {},
   "outputs": [],
   "source": [
    "def mean(n): \n",
    "    sum = 0   \n",
    "    for digit in str(n):\n",
    "        sum += int(digit)       \n",
    "    return float(sum/len(str(n)))"
   ]
  },
  {
   "cell_type": "code",
   "execution_count": 20,
   "id": "29f24482-cda2-4bc8-80d3-8225979a13a1",
   "metadata": {},
   "outputs": [
    {
     "data": {
      "text/plain": [
       "3.0"
      ]
     },
     "execution_count": 20,
     "metadata": {},
     "output_type": "execute_result"
    }
   ],
   "source": [
    "mean(12345)"
   ]
  },
  {
   "cell_type": "code",
   "execution_count": null,
   "id": "8abd7ab3-4df9-41d2-b816-b88669a1fad4",
   "metadata": {},
   "outputs": [],
   "source": []
  }
 ],
 "metadata": {
  "kernelspec": {
   "display_name": "Python 3 (ipykernel)",
   "language": "python",
   "name": "python3"
  },
  "language_info": {
   "codemirror_mode": {
    "name": "ipython",
    "version": 3
   },
   "file_extension": ".py",
   "mimetype": "text/x-python",
   "name": "python",
   "nbconvert_exporter": "python",
   "pygments_lexer": "ipython3",
   "version": "3.10.9"
  }
 },
 "nbformat": 4,
 "nbformat_minor": 5
}
