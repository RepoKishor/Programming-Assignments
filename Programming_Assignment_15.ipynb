{
 "cells": [
  {
   "cell_type": "code",
   "execution_count": 8,
   "id": "d1936ff0",
   "metadata": {},
   "outputs": [
    {
     "name": "stdout",
     "output_type": "stream",
     "text": [
      "Enter the number range: 100\n",
      "['0', '35', '70']\n",
      "0,35,70\n"
     ]
    }
   ],
   "source": [
    "#Q1\n",
    "def fivesevenGenerator(num):\n",
    "    for i in range(num):\n",
    "        if i%5==0 and i%7==0:\n",
    "            yield i\n",
    "\n",
    "n=int(input(\"Enter the number range: \"))\n",
    "li = []\n",
    "for i in fivesevenGenerator(n):\n",
    "    li.append(str(i))\n",
    "\n",
    "print (li)\n",
    "print(\",\".join(li))"
   ]
  },
  {
   "cell_type": "code",
   "execution_count": 11,
   "id": "a087ff5c",
   "metadata": {},
   "outputs": [
    {
     "name": "stdout",
     "output_type": "stream",
     "text": [
      "Enter the number range: 10\n",
      "['0', '2', '4', '6', '8']\n"
     ]
    }
   ],
   "source": [
    "#Q2\n",
    "def evenNumberGenerator(num):\n",
    "    for i in range(num):\n",
    "        if i%2==0:\n",
    "            yield i\n",
    "\n",
    "n=int(input(\"Enter the number range: \"))\n",
    "li_Even = []\n",
    "for i in evenNumberGenerator(n):\n",
    "    li_Even.append(str(i))\n",
    "\n",
    "print (li_Even)"
   ]
  },
  {
   "cell_type": "code",
   "execution_count": 13,
   "id": "5f97653e",
   "metadata": {},
   "outputs": [
    {
     "name": "stdout",
     "output_type": "stream",
     "text": [
      "Enter the number of fibonacci numbers to be generated: 10\n",
      "['0', '1', '1', '2', '3', '5', '8', '13', '21', '34', '55']\n",
      "0,1,1,2,3,5,8,13,21,34,55\n"
     ]
    }
   ],
   "source": [
    "#Q3\n",
    "def fibGenerator(n):\n",
    "    if n == 0: return 0\n",
    "    elif n == 1: return 1\n",
    "    else: \n",
    "        return fibGenerator(n-1)+fibGenerator(n-2)\n",
    "\n",
    "n=int(input(\"Enter the number of fibonacci numbers to be generated: \"))\n",
    "fibs = [str(fibGenerator(i)) for i in range(0, n+1)]\n",
    "print(fibs)\n",
    "print (\",\".join(fibs))"
   ]
  },
  {
   "cell_type": "code",
   "execution_count": 16,
   "id": "4159a940",
   "metadata": {},
   "outputs": [
    {
     "name": "stdout",
     "output_type": "stream",
     "text": [
      "UserName: john\n",
      "CompanyName: google.com\n"
     ]
    }
   ],
   "source": [
    "#Q4\n",
    "string = \"john@google.com\"\n",
    "index = string.index('@')\n",
    "print(\"UserName:\", string[:index])\n",
    "print(\"CompanyName:\",string[index+1:])"
   ]
  },
  {
   "cell_type": "code",
   "execution_count": 19,
   "id": "cbaa809b",
   "metadata": {},
   "outputs": [
    {
     "name": "stdout",
     "output_type": "stream",
     "text": [
      "Subclass Square\n",
      "Parent Class Shape\n",
      "100\n"
     ]
    }
   ],
   "source": [
    "#Q5\n",
    "class Shape():\n",
    "    def __init__(self):\n",
    "        print(\"Parent Class Shape\")\n",
    "\n",
    "    def area(self):\n",
    "        return 0\n",
    "\n",
    "class Square(Shape):\n",
    "    def __init__(self, length):\n",
    "        print(\"Subclass Square\")\n",
    "        Shape.__init__(self)\n",
    "        self.length = length\n",
    "\n",
    "    def area(self):\n",
    "        return self.length*self.length\n",
    "\n",
    "sqr= Square(10)\n",
    "print (sqr.area())"
   ]
  },
  {
   "cell_type": "code",
   "execution_count": null,
   "id": "a3adb749",
   "metadata": {},
   "outputs": [],
   "source": []
  }
 ],
 "metadata": {
  "kernelspec": {
   "display_name": "Python 3 (ipykernel)",
   "language": "python",
   "name": "python3"
  },
  "language_info": {
   "codemirror_mode": {
    "name": "ipython",
    "version": 3
   },
   "file_extension": ".py",
   "mimetype": "text/x-python",
   "name": "python",
   "nbconvert_exporter": "python",
   "pygments_lexer": "ipython3",
   "version": "3.9.7"
  }
 },
 "nbformat": 4,
 "nbformat_minor": 5
}
