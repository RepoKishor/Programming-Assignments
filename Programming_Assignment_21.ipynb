{
 "cells": [
  {
   "cell_type": "markdown",
   "id": "774d60a3-73b1-4b09-a926-12cd2c294827",
   "metadata": {},
   "source": [
    "Write a function that takes a list and a number as arguments. Add the number to the end of the list, then remove the first element of the list. The function should then return the updated list"
   ]
  },
  {
   "cell_type": "code",
   "execution_count": 1,
   "id": "f7c90143-833b-4dbe-95e7-27cd36d54265",
   "metadata": {},
   "outputs": [],
   "source": [
    "li = [5, 6, 7, 8, 9]\n",
    "def next_in_line(li,num):\n",
    "    if len(li) > 0 :\n",
    "        li.append(num)\n",
    "        return li[1:]\n",
    "    else:\n",
    "        print(\"'No list has been selected'\")"
   ]
  },
  {
   "cell_type": "code",
   "execution_count": 2,
   "id": "ad83ed66-471f-47a5-bcb9-6ce51f74249f",
   "metadata": {},
   "outputs": [
    {
     "data": {
      "text/plain": [
       "[6, 7, 8, 9, 1]"
      ]
     },
     "execution_count": 2,
     "metadata": {},
     "output_type": "execute_result"
    }
   ],
   "source": [
    "next_in_line([5, 6, 7, 8, 9], 1)"
   ]
  },
  {
   "cell_type": "markdown",
   "id": "d90aa3c6-d257-47bd-bf06-1216bcecfe1e",
   "metadata": {},
   "source": [
    "Create the function that takes a list of dictionaries and returns the sum of people's budgets.Create the function that takes a list of dictionaries and returns the sum of people's budgets."
   ]
  },
  {
   "cell_type": "code",
   "execution_count": 3,
   "id": "0d1cd9a5-c3ab-4711-b4bb-2621c3f2a865",
   "metadata": {},
   "outputs": [],
   "source": [
    "def get_budgets(listofDict):\n",
    "    sum = 0\n",
    "    for dictionary in listofDict:\n",
    "        for key,val in dictionary.items():\n",
    "            if key == 'budget':\n",
    "                sum = sum + val\n",
    "    return sum"
   ]
  },
  {
   "cell_type": "code",
   "execution_count": 4,
   "id": "b41ec0a3-50b2-4e50-af46-a77391ce5663",
   "metadata": {},
   "outputs": [
    {
     "data": {
      "text/plain": [
       "65700"
      ]
     },
     "execution_count": 4,
     "metadata": {},
     "output_type": "execute_result"
    }
   ],
   "source": [
    "get_budgets([\n",
    "{ 'name': 'John', 'age': 21, 'budget': 23000 },\n",
    "{ 'name': 'Steve', 'age': 32, 'budget': 40000 },\n",
    "{ 'name': 'Martin', 'age': 16, 'budget': 2700 }\n",
    "])"
   ]
  },
  {
   "cell_type": "markdown",
   "id": "2eaa418b-0025-42a8-b4da-aa7765864679",
   "metadata": {},
   "source": [
    "Create a function that takes a string and returns a string with its letters in alphabetical order.Create a function that takes a string and returns a string with its letters in alphabetical order."
   ]
  },
  {
   "cell_type": "code",
   "execution_count": 7,
   "id": "b3c2d83c-4b52-4171-8f3b-1e8177b95b7d",
   "metadata": {},
   "outputs": [],
   "source": [
    "def alphabet_soup(str):\n",
    "    #return sorted(str)\n",
    "    return ''.join(sorted(str))"
   ]
  },
  {
   "cell_type": "code",
   "execution_count": 8,
   "id": "e4d7f431-dcf2-4320-82fe-99fe51dd780c",
   "metadata": {},
   "outputs": [
    {
     "data": {
      "text/plain": [
       "'ehllo'"
      ]
     },
     "execution_count": 8,
     "metadata": {},
     "output_type": "execute_result"
    }
   ],
   "source": [
    "alphabet_soup('hello')"
   ]
  },
  {
   "cell_type": "markdown",
   "id": "a495e82d-4800-4a0a-9f8b-ce0bcfaa0b6d",
   "metadata": {},
   "source": [
    "Suppose that you invest $10,000 for 10 years at an interest rate of 6% compounded monthly. What will be the value of your investment at the end of the 10 year period?"
   ]
  },
  {
   "cell_type": "code",
   "execution_count": 9,
   "id": "08d9639f-3d78-4b85-922d-ed93adf39eb0",
   "metadata": {},
   "outputs": [],
   "source": [
    "def compound_interest(amount, years, intrest, period):\n",
    "    future_value = amount *(1 + (intrest/period)) ** (years * period)\n",
    "    return round(future_value,2)"
   ]
  },
  {
   "cell_type": "code",
   "execution_count": 11,
   "id": "a1b32976-1ed5-4186-9f34-1c53fcdd0b00",
   "metadata": {},
   "outputs": [
    {
     "data": {
      "text/plain": [
       "15399.26"
      ]
     },
     "execution_count": 11,
     "metadata": {},
     "output_type": "execute_result"
    }
   ],
   "source": [
    "compound_interest(3500, 15, 0.1, 4)"
   ]
  },
  {
   "cell_type": "markdown",
   "id": "76020b4c-02aa-4195-bd48-6ddc70bc0ed2",
   "metadata": {},
   "source": [
    "Write a function that takes a list of elements and returns only the integersWrite a function that takes a list of elements and returns only the integers"
   ]
  },
  {
   "cell_type": "code",
   "execution_count": 12,
   "id": "51678e05-df31-4eb4-9688-105bd84943e7",
   "metadata": {},
   "outputs": [],
   "source": [
    "def return_onlyInteger(lst):\n",
    "    intlist = []\n",
    "    for i in lst:\n",
    "        if type(i) == int:\n",
    "            intlist.append(i)\n",
    "    return intlist"
   ]
  },
  {
   "cell_type": "code",
   "execution_count": 13,
   "id": "831e0131-4e04-420a-84b5-f147a9902d55",
   "metadata": {},
   "outputs": [
    {
     "data": {
      "text/plain": [
       "[9, 2, 16]"
      ]
     },
     "execution_count": 13,
     "metadata": {},
     "output_type": "execute_result"
    }
   ],
   "source": [
    "return_onlyInteger([9, 2, 'space', 'car', 'lion', 16])"
   ]
  },
  {
   "cell_type": "code",
   "execution_count": null,
   "id": "e902ade7-d8a9-4001-b4cc-5d45e274af49",
   "metadata": {},
   "outputs": [],
   "source": []
  }
 ],
 "metadata": {
  "kernelspec": {
   "display_name": "Python 3 (ipykernel)",
   "language": "python",
   "name": "python3"
  },
  "language_info": {
   "codemirror_mode": {
    "name": "ipython",
    "version": 3
   },
   "file_extension": ".py",
   "mimetype": "text/x-python",
   "name": "python",
   "nbconvert_exporter": "python",
   "pygments_lexer": "ipython3",
   "version": "3.10.9"
  }
 },
 "nbformat": 4,
 "nbformat_minor": 5
}
