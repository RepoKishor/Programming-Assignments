{
 "cells": [
  {
   "cell_type": "markdown",
   "id": "bd6b7d1a-2f57-4c4c-b5a9-980d220a0f46",
   "metadata": {},
   "source": [
    "Create a function that takes an integer and returns a list from 1 to the given number, where:\n",
    "1.\tIf the number can be divided evenly by 4, amplify it by 10 (i.e. return 10 times the number).\n",
    "2.\tIf the number cannot be divided evenly by 4, simply return the number"
   ]
  },
  {
   "cell_type": "code",
   "execution_count": 4,
   "id": "6fbe49c5-816f-4ccd-9e90-933d61bb7e99",
   "metadata": {},
   "outputs": [
    {
     "name": "stdin",
     "output_type": "stream",
     "text": [
      "enter a number 4\n"
     ]
    },
    {
     "data": {
      "text/plain": [
       "[1, 2, 3, 40]"
      ]
     },
     "execution_count": 4,
     "metadata": {},
     "output_type": "execute_result"
    }
   ],
   "source": [
    "n = int(input(\"enter a number\"))\n",
    "[ i*10 if i%4==0 else i for i in range(1,n+1)]"
   ]
  },
  {
   "cell_type": "markdown",
   "id": "fbcaf414-9f80-41ba-b8b5-f9aae3b0785a",
   "metadata": {},
   "source": [
    "Create a function that takes a list of numbers and return the number that's unique"
   ]
  },
  {
   "cell_type": "code",
   "execution_count": 11,
   "id": "70dd00ac-4087-4c9d-a44c-8c4e3770847c",
   "metadata": {},
   "outputs": [],
   "source": [
    "def get_unique(li):\n",
    "    s = list(set(li))\n",
    "    print(\"distinct elements are \" ,s)\n",
    "    for i in s:\n",
    "        if li.count(i) == 1:\n",
    "            return i"
   ]
  },
  {
   "cell_type": "code",
   "execution_count": 12,
   "id": "6d3166e6-3e25-42ba-9339-f1f6293ce788",
   "metadata": {},
   "outputs": [
    {
     "name": "stdout",
     "output_type": "stream",
     "text": [
      "distinct elements are  [3, 7]\n"
     ]
    },
    {
     "data": {
      "text/plain": [
       "7"
      ]
     },
     "execution_count": 12,
     "metadata": {},
     "output_type": "execute_result"
    }
   ],
   "source": [
    "get_unique([3, 3, 3, 7, 3, 3])"
   ]
  },
  {
   "cell_type": "markdown",
   "id": "83bb5837-807e-4d31-8890-a562ffa6b645",
   "metadata": {},
   "source": [
    "Your task is to create a Circle constructor that creates a circle with a radius provided by an argument. The circles constructed must have two getters getArea() (PIr^2) and getPerimeter() (2PI*r) which give both respective areas and perimeter (circumference)."
   ]
  },
  {
   "cell_type": "code",
   "execution_count": 20,
   "id": "6c5d3bec-ab21-4240-be75-2bdeee52bd15",
   "metadata": {},
   "outputs": [],
   "source": [
    "class Circle():\n",
    "    def __init__(self, r):\n",
    "        self.radius = r\n",
    "\n",
    "    def getArea(self):\n",
    "        return 3.14*self.radius**2\n",
    "    \n",
    "    def getPerimeter(self):\n",
    "        return 2*3.14*self.radius"
   ]
  },
  {
   "cell_type": "code",
   "execution_count": 22,
   "id": "68dae9ef-04e2-4ec7-b1d6-bb599d99df98",
   "metadata": {},
   "outputs": [
    {
     "data": {
      "text/plain": [
       "379.94"
      ]
     },
     "execution_count": 22,
     "metadata": {},
     "output_type": "execute_result"
    }
   ],
   "source": [
    "cir = Circle(11)\n",
    "cir.getArea()"
   ]
  },
  {
   "cell_type": "code",
   "execution_count": 21,
   "id": "92a31b7c-0083-4a04-82a4-024cc6c55b59",
   "metadata": {},
   "outputs": [
    {
     "data": {
      "text/plain": [
       "27.883200000000002"
      ]
     },
     "execution_count": 21,
     "metadata": {},
     "output_type": "execute_result"
    }
   ],
   "source": [
    "circy = Circle(4.44)\n",
    "circy.getPerimeter()"
   ]
  },
  {
   "cell_type": "markdown",
   "id": "1951b10a-faa0-418b-88f6-c1374c6a5e0c",
   "metadata": {},
   "source": [
    "Create a function that takes a list of strings and return a list, sorted from shortest to longest"
   ]
  },
  {
   "cell_type": "code",
   "execution_count": 26,
   "id": "37417c9c-c915-442d-b01e-411be27eb21a",
   "metadata": {},
   "outputs": [],
   "source": [
    "def sort_by_length_Asc(li):\n",
    "    return sorted(li, key = len)"
   ]
  },
  {
   "cell_type": "code",
   "execution_count": 27,
   "id": "34093f3e-a451-4f56-9dbe-91005f13e232",
   "metadata": {},
   "outputs": [
    {
     "data": {
      "text/plain": [
       "['Apple', 'Google', 'Microsoft']"
      ]
     },
     "execution_count": 27,
     "metadata": {},
     "output_type": "execute_result"
    }
   ],
   "source": [
    "sort_by_length_Asc(['Google', 'Apple', 'Microsoft'])"
   ]
  },
  {
   "cell_type": "markdown",
   "id": "feec40ae-5bea-4442-bd8b-33cd0c18ab8a",
   "metadata": {},
   "source": [
    "Create a function that validates whether three given integers form a Pythagorean triplet. The sum of the squares of the two smallest integers must equal the square of the largest number to be validated."
   ]
  },
  {
   "cell_type": "code",
   "execution_count": 34,
   "id": "9e793be0-9d09-49e1-a0c8-ac2f9dbaf510",
   "metadata": {},
   "outputs": [],
   "source": [
    "\n",
    "def check_triplet(li):\n",
    "    lst = []\n",
    "    lst = sorted(li)\n",
    "\n",
    "    if lst[0]**2 + lst[1]**2 == lst[2]**2:\n",
    "        print('Triplets')\n",
    "        return True\n",
    "    else:\n",
    "        print(\"not triplet\")\n",
    "        return False"
   ]
  },
  {
   "cell_type": "code",
   "execution_count": 35,
   "id": "48f5edb7-3e4b-4617-9eeb-b67299c65525",
   "metadata": {},
   "outputs": [
    {
     "name": "stdout",
     "output_type": "stream",
     "text": [
      "Triplets\n"
     ]
    },
    {
     "data": {
      "text/plain": [
       "True"
      ]
     },
     "execution_count": 35,
     "metadata": {},
     "output_type": "execute_result"
    }
   ],
   "source": [
    "check_triplet([13, 5, 12])"
   ]
  },
  {
   "cell_type": "code",
   "execution_count": null,
   "id": "898a115e-a38e-45ee-b44a-fb9b8ea7ba9e",
   "metadata": {},
   "outputs": [],
   "source": []
  }
 ],
 "metadata": {
  "kernelspec": {
   "display_name": "Python 3 (ipykernel)",
   "language": "python",
   "name": "python3"
  },
  "language_info": {
   "codemirror_mode": {
    "name": "ipython",
    "version": 3
   },
   "file_extension": ".py",
   "mimetype": "text/x-python",
   "name": "python",
   "nbconvert_exporter": "python",
   "pygments_lexer": "ipython3",
   "version": "3.10.9"
  }
 },
 "nbformat": 4,
 "nbformat_minor": 5
}
