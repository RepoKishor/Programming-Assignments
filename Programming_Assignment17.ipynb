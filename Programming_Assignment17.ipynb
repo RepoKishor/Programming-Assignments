{
 "cells": [
  {
   "cell_type": "markdown",
   "id": "8ce7e30c-62de-4570-9ada-0a4ddf85eba6",
   "metadata": {},
   "source": [
    "Question1. Create a function that takes three arguments a, b, c and \n",
    "returns the sum of the numbers that are evenly divided by c from the range a, b inclusive."
   ]
  },
  {
   "cell_type": "code",
   "execution_count": 1,
   "id": "6c75a747-3ef5-4597-b524-6bba5b787776",
   "metadata": {},
   "outputs": [
    {
     "name": "stdin",
     "output_type": "stream",
     "text": [
      "Enter a :  1\n",
      "Enter b :  10\n",
      "Enter c :  3\n"
     ]
    },
    {
     "name": "stdout",
     "output_type": "stream",
     "text": [
      "18\n"
     ]
    }
   ],
   "source": [
    "\n",
    "def sumofNumbers(a, b, c):     \n",
    "    sum = 0\n",
    "    for i in range(a, b + 1): \n",
    "        if (i % c == 0):\n",
    "            sum += i \n",
    "    return sum\n",
    "a = int(input('Enter a : '))\n",
    "b = int(input('Enter b : '))\n",
    "c = int(input('Enter c : '))\n",
    "print(sumofNumbers(a, b, c))"
   ]
  },
  {
   "cell_type": "markdown",
   "id": "bb49cc34-3f05-4e2f-9ca9-35ddc6f67e95",
   "metadata": {},
   "source": [
    "Question2.Create a function that returns True \n",
    "if a given inequality expression is correct and False otherwise."
   ]
  },
  {
   "cell_type": "code",
   "execution_count": 3,
   "id": "76592d15-1b0c-4ac6-b27e-3d6da2bdb9ad",
   "metadata": {},
   "outputs": [
    {
     "name": "stdout",
     "output_type": "stream",
     "text": [
      "True\n",
      "False\n",
      "True\n"
     ]
    }
   ],
   "source": [
    "def evalInequality(expression) : \n",
    "    return eval ( expression )\n",
    "print(evalInequality(\"3 < 7 < 11\"))\n",
    "print(evalInequality(\"13 > 44 > 33 > 1\"))\n",
    "print(evalInequality(\"1 < 2 < 6 < 9 > 3\"))"
   ]
  },
  {
   "cell_type": "markdown",
   "id": "30c7ee05-6ebc-4732-9881-03912babfa6b",
   "metadata": {},
   "source": [
    "Question3.Create a function that replaces all the vowels in a string with a specified character"
   ]
  },
  {
   "cell_type": "code",
   "execution_count": 5,
   "id": "076bcca0-95ea-4cec-ba8e-89c52c1f4e1f",
   "metadata": {},
   "outputs": [
    {
     "name": "stdin",
     "output_type": "stream",
     "text": [
      "enter a string :  replace_all_vowels\n",
      "enter the character which will replace the vowels:  #\n"
     ]
    },
    {
     "name": "stdout",
     "output_type": "stream",
     "text": [
      "The modified string afer replacing vowels is : r#pl#c#_#ll_v#w#ls\n"
     ]
    }
   ],
   "source": [
    "\n",
    "def replace_all_vowels(str, s):\n",
    "    vowels = 'AEIOUaeiou'\n",
    "    for v in vowels:  \n",
    "        str = str.replace(v, s)  \n",
    "    return str\n",
    "  \n",
    "ipStr = input(\"enter a string : \")\n",
    "s = input(\"enter the character which will replace the vowels: \")\n",
    "print(\"The modified string afer replacing vowels is :\",replace_all_vowels(ipStr, s))"
   ]
  },
  {
   "cell_type": "markdown",
   "id": "00d0a352-ae9d-43e1-b2f2-8922f18bb3a6",
   "metadata": {},
   "source": [
    "Question4.Write a function that calculates the factorial of a number recursively"
   ]
  },
  {
   "cell_type": "code",
   "execution_count": 6,
   "id": "7c5afdf6-ad9b-486c-860e-8f4f8b09475e",
   "metadata": {},
   "outputs": [
    {
     "name": "stdin",
     "output_type": "stream",
     "text": [
      "enter a number : 5\n"
     ]
    },
    {
     "name": "stdout",
     "output_type": "stream",
     "text": [
      "Factorial is: 120\n"
     ]
    }
   ],
   "source": [
    "def fact(n):     \n",
    "    if n == 0:\n",
    "        return 1    \n",
    "    return n * fact(n-1)\n",
    "\n",
    "num = int(input('enter a number :'))\n",
    "print(\"Factorial is:\", fact(num))"
   ]
  },
  {
   "cell_type": "markdown",
   "id": "2cb5ca79-7c36-4915-9923-0bdbc63537e5",
   "metadata": {},
   "source": [
    "Question 5\n",
    "Hamming distance is the number of characters that differ between two strings"
   ]
  },
  {
   "cell_type": "code",
   "execution_count": 8,
   "id": "57203f0a-ccb5-4e14-aac2-8c94293acd5a",
   "metadata": {},
   "outputs": [
    {
     "name": "stdout",
     "output_type": "stream",
     "text": [
      "1\n"
     ]
    }
   ],
   "source": [
    "def hammingdistance(str1, str2):\n",
    "    i = 0\n",
    "    count = 0\n",
    "    while(i < len(str1)):\n",
    "        if(str1[i] != str2[i]):\n",
    "            count += 1\n",
    "        i += 1\n",
    "    return count\n",
    " \n",
    "str1 = \"abcbba\"\n",
    "str2 = \"abcbda\"\n",
    "print(hammingdistance(str1, str2))"
   ]
  },
  {
   "cell_type": "code",
   "execution_count": null,
   "id": "3d3b1c57-f8cd-4fa8-9222-2f96c5837860",
   "metadata": {},
   "outputs": [],
   "source": []
  }
 ],
 "metadata": {
  "kernelspec": {
   "display_name": "Python 3 (ipykernel)",
   "language": "python",
   "name": "python3"
  },
  "language_info": {
   "codemirror_mode": {
    "name": "ipython",
    "version": 3
   },
   "file_extension": ".py",
   "mimetype": "text/x-python",
   "name": "python",
   "nbconvert_exporter": "python",
   "pygments_lexer": "ipython3",
   "version": "3.10.9"
  }
 },
 "nbformat": 4,
 "nbformat_minor": 5
}
