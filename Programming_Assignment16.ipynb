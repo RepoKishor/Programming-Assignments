{
 "cells": [
  {
   "cell_type": "markdown",
   "id": "13c67efe-2a7e-4ba8-bc8a-470886eb13d4",
   "metadata": {},
   "source": [
    "Question1. Write a function that stutters a word as if someone is struggling to read it. \n",
    "The first two letters are repeated twice with an ellipsis ... and space after each, \n",
    "and then the word is pronounced with a question mark ?."
   ]
  },
  {
   "cell_type": "code",
   "execution_count": 1,
   "id": "45c93d25-1447-44fb-9aa9-c75b0171868c",
   "metadata": {},
   "outputs": [
    {
     "name": "stdin",
     "output_type": "stream",
     "text": [
      "Enter the stutter word :  encounter\n"
     ]
    },
    {
     "name": "stdout",
     "output_type": "stream",
     "text": [
      "en... en... encounter?\n"
     ]
    }
   ],
   "source": [
    "def stutter(word):\n",
    "    return ((word[:2]+'... ')*2)+word+'?'\n",
    "word = input('Enter the stutter word : ')\n",
    "print(stutter(word))"
   ]
  },
  {
   "cell_type": "markdown",
   "id": "4c38e823-512e-4d2b-97f1-7bfe8d006ca7",
   "metadata": {},
   "source": [
    "Question 2.Create a function that takes an angle in radians \n",
    "and returns the corresponding angle in degrees rounded to one decimal place."
   ]
  },
  {
   "cell_type": "code",
   "execution_count": 3,
   "id": "87abcc4c-b6c0-41dd-8783-3f9004038459",
   "metadata": {},
   "outputs": [
    {
     "name": "stdin",
     "output_type": "stream",
     "text": [
      "Enter the Radian value :  60\n"
     ]
    },
    {
     "name": "stdout",
     "output_type": "stream",
     "text": [
      "In degree = 3436.3636363636365\n"
     ]
    }
   ],
   "source": [
    "def radians_to_degrees(radian):\n",
    "    pi = (22/7)\n",
    "    #formula\n",
    "    degree = radian * (180/pi)\n",
    "    return degree\n",
    "radian = float(input('Enter the Radian value : '))\n",
    "print(\"In degree =\",(radians_to_degrees(radian)))"
   ]
  },
  {
   "cell_type": "markdown",
   "id": "a86424af-1d89-4742-adaa-d74f3d066280",
   "metadata": {},
   "source": [
    "Question 3. In this challenge, establish if a given integer num is a Curzon number. \n",
    "If 1 plus 2 elevated to num is exactly divisible by 1 plus 2 multiplied by num, then num is a Curzon number.\n",
    "Given a non-negative integer num, implement a function that returns True if num is a Curzon number, \n",
    "or False otherwise."
   ]
  },
  {
   "cell_type": "code",
   "execution_count": 7,
   "id": "4a110e10-b607-4904-9b65-9969c2daeea8",
   "metadata": {},
   "outputs": [
    {
     "name": "stdin",
     "output_type": "stream",
     "text": [
      "Enter a number :  1025\n"
     ]
    },
    {
     "name": "stdout",
     "output_type": "stream",
     "text": [
      "1025  is not a Curzon Number\n"
     ]
    }
   ],
   "source": [
    "def IsCurzonNumber(n):\n",
    " \n",
    "    a,b = 0, 0\n",
    "    a = pow(2, n) + 1\n",
    "    b = 2 * n + 1\n",
    "\n",
    "    if (a % b == 0):\n",
    "        print(n, \" is a Curzon Number\")\n",
    "    else:\n",
    "        print(n, \" is not a Curzon Number\")\n",
    "        \n",
    "n = int(input('Enter a number : '))\n",
    "IsCurzonNumber(n)"
   ]
  },
  {
   "cell_type": "markdown",
   "id": "7d5390a6-2a94-4e8f-ae5e-8e7db55fa150",
   "metadata": {},
   "source": [
    "Question 4.Given the side length x find the area of a hexagon"
   ]
  },
  {
   "cell_type": "code",
   "execution_count": 9,
   "id": "361122fa-7c59-4a0d-8df4-d3e3eb92f4b8",
   "metadata": {},
   "outputs": [
    {
     "name": "stdin",
     "output_type": "stream",
     "text": [
      "Enter the length of the side of a hexagon :  5\n"
     ]
    },
    {
     "name": "stdout",
     "output_type": "stream",
     "text": [
      "Area: 64.9519\n"
     ]
    }
   ],
   "source": [
    "import math\n",
    "def area_hexagon(side):     \n",
    "    return ((3 * math.sqrt(3) * (side * side)) / 2);\n",
    "     \n",
    "\n",
    "len_side = float(input('Enter the length of the side of a hexagon : '))\n",
    "\n",
    "print(\"Area:\",\"{0:.4f}\".format(area_hexagon(len_side)))"
   ]
  },
  {
   "cell_type": "markdown",
   "id": "0e8fa4a7-8cf1-4683-9f19-35b71dfb5d59",
   "metadata": {},
   "source": [
    "Question 5.Create a function that returns a base-2 (binary) representation of a base-10 (decimal) string number. \n",
    "To convert is simple: ((2) means base-2 and (10) means base-10) 010101001(2) = 1 + 8 + 32 + 128.\n",
    "Going from right to left, the value of the most right bit is 1, now from that every bit to the left will be \n",
    "x2 the value, value of an 8 bit binary numbers are (256, 128, 64, 32, 16, 8, 4, 2, 1)."
   ]
  },
  {
   "cell_type": "code",
   "execution_count": 11,
   "id": "c940cdb3-adca-4141-902d-9ee50e02656e",
   "metadata": {},
   "outputs": [
    {
     "name": "stdout",
     "output_type": "stream",
     "text": [
      "0\n",
      "1\n",
      "10\n",
      "11\n",
      "100\n",
      "101\n",
      "110\n",
      "111\n",
      "1000\n",
      "1001\n",
      "1010\n",
      "1011\n",
      "1100\n",
      "1101\n",
      "1110\n",
      "1111\n",
      "10000\n",
      "10001\n",
      "10010\n",
      "10011\n",
      "10100\n",
      "10101\n",
      "10110\n",
      "10111\n",
      "11000\n",
      "11001\n",
      "11010\n",
      "11011\n",
      "11100\n",
      "11101\n",
      "11110\n",
      "11111\n",
      "100000\n",
      "100001\n",
      "100010\n",
      "100011\n",
      "100100\n",
      "100101\n",
      "100110\n",
      "100111\n",
      "101000\n",
      "101001\n",
      "101010\n",
      "101011\n",
      "101100\n",
      "101101\n",
      "101110\n",
      "101111\n",
      "110000\n",
      "110001\n"
     ]
    }
   ],
   "source": [
    "def decimalToBinary(n):\n",
    "    return bin(n).replace(\"0b\", \"\")\n",
    "   \n",
    "for i in range(0,50):\n",
    "    print(decimalToBinary(i))"
   ]
  },
  {
   "cell_type": "code",
   "execution_count": null,
   "id": "92bb07c6-93f9-455a-a486-6b8af14d593b",
   "metadata": {},
   "outputs": [],
   "source": []
  }
 ],
 "metadata": {
  "kernelspec": {
   "display_name": "Python 3 (ipykernel)",
   "language": "python",
   "name": "python3"
  },
  "language_info": {
   "codemirror_mode": {
    "name": "ipython",
    "version": 3
   },
   "file_extension": ".py",
   "mimetype": "text/x-python",
   "name": "python",
   "nbconvert_exporter": "python",
   "pygments_lexer": "ipython3",
   "version": "3.10.9"
  }
 },
 "nbformat": 4,
 "nbformat_minor": 5
}
