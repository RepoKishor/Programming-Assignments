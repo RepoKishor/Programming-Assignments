{
 "cells": [
  {
   "cell_type": "markdown",
   "id": "b56428aa-5444-4781-95c5-d40fcd8ff6a9",
   "metadata": {},
   "source": [
    "Create a function that takes three parameters where:\n",
    "•\tx is the start of the range (inclusive).\n",
    "•\ty is the end of the range (inclusive).\n",
    "•\tn is the divisor to be checked against.\n",
    "Return an ordered list with numbers in the range that are divisible by the third parameter n. Return an empty list if there are no numbers that are divisible by n.\n",
    "Create a function that takes three parameters where:\n",
    "•\tx is the start of the range (inclusive).\n",
    "•\ty is the end of the range (inclusive).\n",
    "•\tn is the divisor to be checked against.\n",
    "Return an ordered list with numbers in the range that are divisible by the third parameter n. Return an empty list if there are no numbers that are divisible by n.\n"
   ]
  },
  {
   "cell_type": "code",
   "execution_count": 1,
   "id": "f9a4c46e-915b-4410-b325-49c57e401e41",
   "metadata": {},
   "outputs": [],
   "source": [
    "def divisor_operation(start,end,n):    \n",
    "    divisor = []\n",
    "    for i in range(start,end+1):\n",
    "        if i % n == 0:\n",
    "            divisor.append(i)\n",
    "    return divisor"
   ]
  },
  {
   "cell_type": "code",
   "execution_count": 2,
   "id": "eb4722e8-0633-4653-9fda-1cd392afd4eb",
   "metadata": {},
   "outputs": [
    {
     "data": {
      "text/plain": [
       "[3, 6, 9]"
      ]
     },
     "execution_count": 2,
     "metadata": {},
     "output_type": "execute_result"
    }
   ],
   "source": [
    "divisor_operation(1,10,3)"
   ]
  },
  {
   "cell_type": "markdown",
   "id": "185c30d4-86dc-43ca-9fd6-3d4ec178a66b",
   "metadata": {},
   "source": [
    "Create a function that takes in two lists and returns True if the second list follows the first list by one element, and False otherwise. In other words, determine if the second list is the first list shifted to the right by 1Create a function that takes in two lists and returns True if the second list follows the first list by one element, and False otherwise. In other words, determine if the second list is the first list shifted to the right by 1"
   ]
  },
  {
   "cell_type": "code",
   "execution_count": 3,
   "id": "56d22907-1d06-447e-b7e1-e8a2d6230d8f",
   "metadata": {},
   "outputs": [],
   "source": [
    "def shift_list(ls,ls2):\n",
    "    if ls[0:len(ls)-1] == ls2[1:len(ls2)]:\n",
    "        return True\n",
    "    return False"
   ]
  },
  {
   "cell_type": "code",
   "execution_count": 5,
   "id": "03479ef9-45cf-48c3-bb5a-6462c5edd53b",
   "metadata": {},
   "outputs": [
    {
     "data": {
      "text/plain": [
       "True"
      ]
     },
     "execution_count": 5,
     "metadata": {},
     "output_type": "execute_result"
    }
   ],
   "source": [
    "shift_list([1, 2], [5, 1])"
   ]
  },
  {
   "cell_type": "code",
   "execution_count": 6,
   "id": "2521b127-96fe-4e5e-bb89-b58b6b82ed91",
   "metadata": {},
   "outputs": [
    {
     "data": {
      "text/plain": [
       "False"
      ]
     },
     "execution_count": 6,
     "metadata": {},
     "output_type": "execute_result"
    }
   ],
   "source": [
    "shift_list([1, 2, 3, 4, 5], [5, 5, 1, 2, 3]) "
   ]
  },
  {
   "cell_type": "markdown",
   "id": "491fe70f-0fbb-45a2-9e25-9161557464a8",
   "metadata": {},
   "source": [
    "A group of friends have decided to start a secret society. The name will be the first letter of each of their names, sorted in alphabetical order.\n",
    "Create a function that takes in a list of names and returns the name of the secret society.\n",
    "A group of friends have decided to start a secret society. The name will be the first letter of each of their names, sorted in alphabetical order.\n",
    "Create a function that takes in a list of names and returns the name of the secret society."
   ]
  },
  {
   "cell_type": "code",
   "execution_count": 7,
   "id": "059e83ed-f5a3-4187-805b-3fd45fb3c00c",
   "metadata": {},
   "outputs": [],
   "source": [
    "\n",
    "def society_name(li):\n",
    "    return ''.join([i[0] for i in sorted(li)])"
   ]
  },
  {
   "cell_type": "code",
   "execution_count": 8,
   "id": "fc3f38d8-dd08-476e-94e5-c61a418a1390",
   "metadata": {},
   "outputs": [
    {
     "data": {
      "text/plain": [
       "'CHLN'"
      ]
     },
     "execution_count": 8,
     "metadata": {},
     "output_type": "execute_result"
    }
   ],
   "source": [
    "society_name([\"Harry\", \"Newt\", \"Luna\", \"Cho\"])"
   ]
  },
  {
   "cell_type": "markdown",
   "id": "a2e5ce0d-6f21-4fd6-b183-f8801e495e4a",
   "metadata": {},
   "source": [
    "An isogram is a word that has no duplicate letters. Create a function that takes a string and returns either True or False depending on whether or not it's an \"isogram\"."
   ]
  },
  {
   "cell_type": "code",
   "execution_count": 9,
   "id": "4a4b5b9a-5a1d-4816-9985-173530099cb7",
   "metadata": {},
   "outputs": [
    {
     "data": {
      "text/plain": [
       "2"
      ]
     },
     "execution_count": 9,
     "metadata": {},
     "output_type": "execute_result"
    }
   ],
   "source": [
    "'PasSword'.lower().count('s')"
   ]
  },
  {
   "cell_type": "code",
   "execution_count": 12,
   "id": "21f284ff-2725-465e-ab60-66f685619a08",
   "metadata": {},
   "outputs": [],
   "source": [
    "def check_isogram(iso):\n",
    "    for i in range(len(iso)):\n",
    "        if iso.lower().count(iso[i]) > 1:\n",
    "            return False\n",
    "    else:\n",
    "        return True"
   ]
  },
  {
   "cell_type": "code",
   "execution_count": 13,
   "id": "c61094c7-de44-4b86-985b-99f20552285c",
   "metadata": {},
   "outputs": [
    {
     "data": {
      "text/plain": [
       "True"
      ]
     },
     "execution_count": 13,
     "metadata": {},
     "output_type": "execute_result"
    }
   ],
   "source": [
    "check_isogram('Algorism')"
   ]
  },
  {
   "cell_type": "markdown",
   "id": "91ac3cdf-0e8d-4ce7-9c85-e062f15bc8ca",
   "metadata": {},
   "source": [
    "Create a function that takes a string and returns True or False, depending on whether the characters are in order or not."
   ]
  },
  {
   "cell_type": "code",
   "execution_count": 17,
   "id": "c36d768c-44e2-4984-b372-56b55fd51835",
   "metadata": {},
   "outputs": [],
   "source": [
    "def is_ordered(string):\n",
    "    n = len(string)\n",
    "    check = [string[i] for i in range(len(string))]\n",
    "    print(check)\n",
    "    check.sort()\n",
    "    for i in range(n):\n",
    "        if check[i] != string[i]:\n",
    "            return False\n",
    "    return True"
   ]
  },
  {
   "cell_type": "code",
   "execution_count": 18,
   "id": "13c0a63d-cc11-47c8-9bd7-dd6cd54994be",
   "metadata": {},
   "outputs": [
    {
     "name": "stdout",
     "output_type": "stream",
     "text": [
      "['e', 'd', 'a', 'b', 'i', 't']\n"
     ]
    },
    {
     "data": {
      "text/plain": [
       "False"
      ]
     },
     "execution_count": 18,
     "metadata": {},
     "output_type": "execute_result"
    }
   ],
   "source": [
    "is_ordered('edabit')"
   ]
  },
  {
   "cell_type": "code",
   "execution_count": 19,
   "id": "638564b9-5e0a-4ead-8711-ef16c291de58",
   "metadata": {},
   "outputs": [
    {
     "name": "stdout",
     "output_type": "stream",
     "text": [
      "['1', '2', '3']\n"
     ]
    },
    {
     "data": {
      "text/plain": [
       "True"
      ]
     },
     "execution_count": 19,
     "metadata": {},
     "output_type": "execute_result"
    }
   ],
   "source": [
    "is_ordered('123')"
   ]
  },
  {
   "cell_type": "code",
   "execution_count": null,
   "id": "e104cc79-05f7-4202-98a8-5e0f725f3f38",
   "metadata": {},
   "outputs": [],
   "source": []
  }
 ],
 "metadata": {
  "kernelspec": {
   "display_name": "Python 3 (ipykernel)",
   "language": "python",
   "name": "python3"
  },
  "language_info": {
   "codemirror_mode": {
    "name": "ipython",
    "version": 3
   },
   "file_extension": ".py",
   "mimetype": "text/x-python",
   "name": "python",
   "nbconvert_exporter": "python",
   "pygments_lexer": "ipython3",
   "version": "3.10.9"
  }
 },
 "nbformat": 4,
 "nbformat_minor": 5
}
