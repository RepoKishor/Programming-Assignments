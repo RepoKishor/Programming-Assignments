{
 "cells": [
  {
   "cell_type": "code",
   "execution_count": null,
   "id": "0cb82d20",
   "metadata": {},
   "outputs": [],
   "source": [
    "1.\tWrite a Python program to convert kilometers to miles?\n",
    "2.\tWrite a Python program to convert Celsius to Fahrenheit?\n",
    "3.\tWrite a Python program to display calendar?\n",
    "4.\tWrite a Python program to solve quadratic equation?\n",
    "5.\tWrite a Python program to swap two variables without temp variable?\n"
   ]
  },
  {
   "cell_type": "code",
   "execution_count": 1,
   "id": "c26f9113",
   "metadata": {},
   "outputs": [
    {
     "name": "stdout",
     "output_type": "stream",
     "text": [
      "Enter the value of kilometer you want to convert to miles5\n",
      "Converted miles value is:: 3.106865\n"
     ]
    }
   ],
   "source": [
    "km=float(input(\"Enter the value of kilometer you want to convert to miles\"))\n",
    "mile = km* 0.621373\n",
    "print(\"Converted miles value is::\",mile)"
   ]
  },
  {
   "cell_type": "code",
   "execution_count": 3,
   "id": "0a658779",
   "metadata": {},
   "outputs": [
    {
     "name": "stdout",
     "output_type": "stream",
     "text": [
      "Enter the value of celsius you want to convert to Farenheit34\n",
      "The converted farenheit value is: 93.2\n"
     ]
    }
   ],
   "source": [
    "cls = float(input(\"Enter the value of celsius you want to convert to Farenheit\"))\n",
    "fh=(cls*1.8)+32\n",
    "print(\"The converted farenheit value is:\",fh)"
   ]
  },
  {
   "cell_type": "code",
   "execution_count": 7,
   "id": "5d249643",
   "metadata": {},
   "outputs": [
    {
     "name": "stdout",
     "output_type": "stream",
     "text": [
      "     July 2022\n",
      "Mo Tu We Th Fr Sa Su\n",
      "             1  2  3\n",
      " 4  5  6  7  8  9 10\n",
      "11 12 13 14 15 16 17\n",
      "18 19 20 21 22 23 24\n",
      "25 26 27 28 29 30 31\n",
      "\n"
     ]
    }
   ],
   "source": [
    "import calendar\n",
    "print(calendar.month(2022,7))"
   ]
  },
  {
   "cell_type": "code",
   "execution_count": 8,
   "id": "602d645d",
   "metadata": {},
   "outputs": [
    {
     "name": "stdout",
     "output_type": "stream",
     "text": [
      "Enter value of a: 2\n",
      "Enter value of b: 6\n",
      "Enter value of c: 3\n",
      "Solution 1:  (-0.6339745962155614+0j)\n",
      "Solution 2:  (-2.3660254037844384+0j)\n"
     ]
    }
   ],
   "source": [
    "\"\"\" This is to solve the quadratic equation\"\"\"\n",
    "import cmath\n",
    "a = float(input('Enter value of a: '))  \n",
    "b = float(input('Enter value of b: '))  \n",
    "c = float(input('Enter value of c: '))  \n",
    "  \n",
    "d = (b**2) - (4*a*c)  \n",
    "\n",
    "solution1 = (-b+cmath.sqrt(d))/(2*a)  \n",
    "solution2 = (-b-cmath.sqrt(d))/(2*a)  \n",
    "print(\"Solution 1: \", solution1)\n",
    "print(\"Solution 2: \", solution2)"
   ]
  },
  {
   "cell_type": "code",
   "execution_count": null,
   "id": "b240088a",
   "metadata": {},
   "outputs": [],
   "source": [
    "\"\"\" swap two variables\"\"\"\n",
    "def swap(a,b):\n",
    "    a=a+b\n",
    "    b=a-b\n",
    "    a=a-b\n",
    "    return a,b\n",
    "\n",
    "print(swap(4,5))"
   ]
  }
 ],
 "metadata": {
  "kernelspec": {
   "display_name": "Python 3 (ipykernel)",
   "language": "python",
   "name": "python3"
  },
  "language_info": {
   "codemirror_mode": {
    "name": "ipython",
    "version": 3
   },
   "file_extension": ".py",
   "mimetype": "text/x-python",
   "name": "python",
   "nbconvert_exporter": "python",
   "pygments_lexer": "ipython3",
   "version": "3.9.7"
  }
 },
 "nbformat": 4,
 "nbformat_minor": 5
}
