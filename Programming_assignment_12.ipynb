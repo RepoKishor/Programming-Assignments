{
 "cells": [
  {
   "cell_type": "code",
   "execution_count": 3,
   "id": "e69d84ec",
   "metadata": {},
   "outputs": [
    {
     "name": "stdout",
     "output_type": "stream",
     "text": [
      "[5, 6, 7, 8, 10, 12]\n"
     ]
    }
   ],
   "source": [
    "dict = {'kishor' : [5, 6, 7, 8],\n",
    "            'chandra' : [10, 8, 7, 5],\n",
    "            'sahu' : [5, 12, 10, 8]}\n",
    "unique=[]\n",
    "for i in dict.keys():\n",
    "    unique.extend(dict[i])\n",
    "unique=list(set(unique))\n",
    "unique.sort()\n",
    "print(unique)"
   ]
  },
  {
   "cell_type": "code",
   "execution_count": 8,
   "id": "1ec9f700",
   "metadata": {},
   "outputs": [
    {
     "name": "stdout",
     "output_type": "stream",
     "text": [
      "The sum of all the values of the dictionary is :  23\n"
     ]
    }
   ],
   "source": [
    "dict = {'kishor' : 6,\n",
    "            'chandra' : 8,\n",
    "            'sahu' : 9}\n",
    "def sum(dict):\n",
    "    sum=0\n",
    "    for i in dict.values():\n",
    "        sum +=i\n",
    "    return sum\n",
    "print(\"The sum of all the values of the dictionary is : \", sum(dict))"
   ]
  },
  {
   "cell_type": "code",
   "execution_count": 13,
   "id": "00acb14f",
   "metadata": {},
   "outputs": [
    {
     "name": "stdout",
     "output_type": "stream",
     "text": [
      "{1: 'Kishor', 2: 'Chandra', 3: 'Sahu', 4: 'IT Professional'}\n"
     ]
    }
   ],
   "source": [
    "# Merging two dictionaries\n",
    "dict_1 = {1: 'Kishor', 2: 'Chandra'}\n",
    "dict_2 = {3: 'Sahu', 4: 'IT Professional'}\n",
    "\n",
    "dict3 = dict_1.copy()\n",
    "dict3.update(dict_2)\n",
    "\n",
    "print(dict3)"
   ]
  },
  {
   "cell_type": "code",
   "execution_count": 20,
   "id": "861b45e9",
   "metadata": {},
   "outputs": [
    {
     "name": "stdout",
     "output_type": "stream",
     "text": [
      "[[1, 2, 3], ['Kishor', 'Chandra', 'Sahu']]\n",
      "{1: 'Kishor', 2: 'Chandra', 3: 'Sahu'}\n"
     ]
    }
   ],
   "source": [
    "# flattening a dictionary\n",
    "dict1 = {'id' : [1, 2, 3],\n",
    "            'name' : ['Kishor', 'Chandra', 'Sahu']}\n",
    "x= list(dict1.values())\n",
    "\n",
    "print(x)\n",
    "dict2={}\n",
    "for i in range(len(x[0])):\n",
    "    dict2[x[0][i]]=x[1][i]\n",
    "\n",
    "print(dict2)"
   ]
  },
  {
   "cell_type": "code",
   "execution_count": 4,
   "id": "951417ee",
   "metadata": {},
   "outputs": [
    {
     "name": "stdout",
     "output_type": "stream",
     "text": [
      "OrderedDict([('chandra', 8), ('kishor', 6), ('sahu', 9)])\n"
     ]
    }
   ],
   "source": [
    "#Python program to sort Python Dictionaries by Key\n",
    "from collections import OrderedDict\n",
    "dict1 = {'kishor' : 6,\n",
    "            'chandra' : 8,\n",
    "            'sahu' : 9}\n",
    "dict1 = OrderedDict(sorted(dict1.items()))\n",
    "print(dict1)"
   ]
  },
  {
   "cell_type": "code",
   "execution_count": 5,
   "id": "21e72772",
   "metadata": {},
   "outputs": [
    {
     "name": "stdout",
     "output_type": "stream",
     "text": [
      "['Chandra', 'Kishor', 'Sahu']\n"
     ]
    }
   ],
   "source": [
    "#Python program to sort Python Dictionaries by Value\n",
    "dict1= {1: 'Kishor', 2: 'Chandra', 3: 'Sahu'}\n",
    "sorted_dictValue = sorted(dict1.values())\n",
    "print(sorted_dictValue)"
   ]
  },
  {
   "cell_type": "code",
   "execution_count": 21,
   "id": "e2d9a054",
   "metadata": {},
   "outputs": [
    {
     "name": "stdout",
     "output_type": "stream",
     "text": [
      "True\n",
      "False\n"
     ]
    }
   ],
   "source": [
    "from collections import OrderedDict \n",
    "def checkOrder(string, orderofchars):\n",
    "    \n",
    "    dict1 = OrderedDict.fromkeys(string)\n",
    "    idx=0\n",
    "    for key,value in dict1.items():\n",
    "        if(key==orderofchars[idx]):\n",
    "            idx=idx+1\n",
    "        if (idx==len(orderofchars)):\n",
    "            return \"True\"\n",
    "    return \"False\"\n",
    "\n",
    "string = \"kishor chandra sahu\"\n",
    "orderofchars =\"ra\"\n",
    "print(checkOrder(string, orderofchars))\n",
    "orderofchars =\"ar\"\n",
    "print(checkOrder(string, orderofchars))  "
   ]
  },
  {
   "cell_type": "code",
   "execution_count": null,
   "id": "c4e93206",
   "metadata": {},
   "outputs": [],
   "source": []
  }
 ],
 "metadata": {
  "kernelspec": {
   "display_name": "Python 3 (ipykernel)",
   "language": "python",
   "name": "python3"
  },
  "language_info": {
   "codemirror_mode": {
    "name": "ipython",
    "version": 3
   },
   "file_extension": ".py",
   "mimetype": "text/x-python",
   "name": "python",
   "nbconvert_exporter": "python",
   "pygments_lexer": "ipython3",
   "version": "3.9.7"
  }
 },
 "nbformat": 4,
 "nbformat_minor": 5
}
