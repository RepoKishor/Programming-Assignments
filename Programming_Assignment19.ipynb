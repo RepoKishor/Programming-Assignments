{
 "cells": [
  {
   "cell_type": "markdown",
   "id": "954bdbe2-98cb-4994-a823-26877e029a5e",
   "metadata": {},
   "source": [
    "Question1\n",
    "Create a function that takes a string and returns a string in which each character is repeated once"
   ]
  },
  {
   "cell_type": "code",
   "execution_count": 4,
   "id": "1a996456-370a-4152-93cf-f192ec71a04b",
   "metadata": {},
   "outputs": [
    {
     "name": "stdout",
     "output_type": "stream",
     "text": [
      "HHeelllloo  WWoorrlldd!!\n"
     ]
    }
   ],
   "source": [
    "def repeatchar(str):\n",
    "    return ''.join([c*2 for c in str])\n",
    "print(repeatchar('Hello World!'))"
   ]
  },
  {
   "cell_type": "markdown",
   "id": "86af9def-c487-4a7d-a169-d31774c45032",
   "metadata": {},
   "source": [
    "Question2\n",
    "Create a function that reverses a boolean value and returns the string \"boolean expected\" \n",
    "if another variable type is given"
   ]
  },
  {
   "cell_type": "code",
   "execution_count": 9,
   "id": "f9a33580-1974-4e15-bd8c-d862d63ffa46",
   "metadata": {},
   "outputs": [
    {
     "name": "stdout",
     "output_type": "stream",
     "text": [
      "False\n"
     ]
    }
   ],
   "source": [
    "def reverse_bool(arg):\n",
    "    return not arg if type(arg) == bool else 'boolean expected'\n",
    "    \n",
    "print(reverse_bool(True))"
   ]
  },
  {
   "cell_type": "markdown",
   "id": "4cff5bb0-84aa-4bb4-a7d7-49b4c2da53cd",
   "metadata": {},
   "source": [
    "Question3\n",
    "Create a function that returns the thickness (in meters) of a piece of paper after folding it n number of times. The paper starts off with a thickness of 0.5mm"
   ]
  },
  {
   "cell_type": "code",
   "execution_count": 12,
   "id": "3d911fbe-2d8b-4cfc-90ba-a6537d22a58a",
   "metadata": {},
   "outputs": [
    {
     "name": "stdout",
     "output_type": "stream",
     "text": [
      "1048.576m\n"
     ]
    }
   ],
   "source": [
    "def numofFolds(n):\n",
    "    thickness = 0.5\n",
    "    for i in range(n):\n",
    "        thickness *= 2\n",
    "    \n",
    "    return str(thickness / 1000)+'m' \n",
    "\n",
    "print(numofFolds(21))"
   ]
  },
  {
   "cell_type": "markdown",
   "id": "2716abe9-b9b7-4c16-b03f-5d3181444136",
   "metadata": {},
   "source": [
    "Question4\n",
    "Create a function that takes a single string as argument and \n",
    "returns an ordered list containing the indices of all capital letters in the string."
   ]
  },
  {
   "cell_type": "code",
   "execution_count": 13,
   "id": "75881d50-e6d9-4da3-aa79-cc5c1c00946c",
   "metadata": {},
   "outputs": [
    {
     "data": {
      "text/plain": [
       "[1, 3, 4, 6]"
      ]
     },
     "execution_count": 13,
     "metadata": {},
     "output_type": "execute_result"
    }
   ],
   "source": [
    "def index_of_caps(word):\n",
    "    indices = []\n",
    "    for i in range(len(word)):\n",
    "        if word[i].isupper():\n",
    "             indices.append(i)\n",
    "    return indices\n",
    "\n",
    "index_of_caps(\"eQuINoX\")"
   ]
  },
  {
   "cell_type": "markdown",
   "id": "c6802703-1538-4bd7-bb82-ee2cd91fd051",
   "metadata": {},
   "source": [
    "Question5\n",
    "Using list comprehensions, create a function that finds all even numbers from 1 to the given number"
   ]
  },
  {
   "cell_type": "code",
   "execution_count": 14,
   "id": "0be9de49-ecb0-4f01-aff7-efbd16686afe",
   "metadata": {},
   "outputs": [
    {
     "name": "stdin",
     "output_type": "stream",
     "text": [
      "Enter a number :  6\n"
     ]
    },
    {
     "data": {
      "text/plain": [
       "[2, 4, 6]"
      ]
     },
     "execution_count": 14,
     "metadata": {},
     "output_type": "execute_result"
    }
   ],
   "source": [
    "def listeven(n):\n",
    "    even =[i for i in range(2,n+1) if i % 2 == 0]\n",
    "    return even\n",
    "\n",
    "n = int(input('Enter a number : '))\n",
    "listeven(n)"
   ]
  },
  {
   "cell_type": "code",
   "execution_count": null,
   "id": "b375d115-71da-47b8-91c5-8982ba61ac0a",
   "metadata": {},
   "outputs": [],
   "source": []
  }
 ],
 "metadata": {
  "kernelspec": {
   "display_name": "Python 3 (ipykernel)",
   "language": "python",
   "name": "python3"
  },
  "language_info": {
   "codemirror_mode": {
    "name": "ipython",
    "version": 3
   },
   "file_extension": ".py",
   "mimetype": "text/x-python",
   "name": "python",
   "nbconvert_exporter": "python",
   "pygments_lexer": "ipython3",
   "version": "3.10.9"
  }
 },
 "nbformat": 4,
 "nbformat_minor": 5
}
